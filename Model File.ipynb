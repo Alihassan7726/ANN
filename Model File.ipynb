{
 "cells": [
  {
   "cell_type": "code",
   "execution_count": 1,
   "metadata": {},
   "outputs": [],
   "source": [
    "import sklearn\n",
    "from sklearn.model_selection import train_test_split\n",
    "import tensorflow as tf"
   ]
  },
  {
   "cell_type": "code",
   "execution_count": 2,
   "metadata": {},
   "outputs": [],
   "source": [
    "from tensorflow import keras\n",
    "from tensorflow.keras import layers\n",
    "from tensorflow.keras.layers import Dense , BatchNormalization\n",
    "from kerastuner.tuners import RandomSearch , Hyperband"
   ]
  },
  {
   "cell_type": "code",
   "execution_count": 4,
   "metadata": {},
   "outputs": [
    {
     "name": "stdout",
     "output_type": "stream",
     "text": [
      "C:\\Users\\Ali\\Downloads\n"
     ]
    }
   ],
   "source": [
    "%cd \"Downloads\\\""
   ]
  },
  {
   "cell_type": "code",
   "execution_count": 5,
   "metadata": {},
   "outputs": [
    {
     "data": {
      "application/javascript": [
       "\n",
       "        if (window._pyforest_update_imports_cell) { window._pyforest_update_imports_cell('import pandas as pd'); }\n",
       "    "
      ],
      "text/plain": [
       "<IPython.core.display.Javascript object>"
      ]
     },
     "metadata": {},
     "output_type": "display_data"
    },
    {
     "data": {
      "text/html": [
       "<div>\n",
       "<style scoped>\n",
       "    .dataframe tbody tr th:only-of-type {\n",
       "        vertical-align: middle;\n",
       "    }\n",
       "\n",
       "    .dataframe tbody tr th {\n",
       "        vertical-align: top;\n",
       "    }\n",
       "\n",
       "    .dataframe thead th {\n",
       "        text-align: right;\n",
       "    }\n",
       "</style>\n",
       "<table border=\"1\" class=\"dataframe\">\n",
       "  <thead>\n",
       "    <tr style=\"text-align: right;\">\n",
       "      <th></th>\n",
       "      <th>Unnamed: 0</th>\n",
       "      <th>Selling_Price</th>\n",
       "      <th>Present_Price</th>\n",
       "      <th>Kms_Driven</th>\n",
       "      <th>Owner</th>\n",
       "      <th>Age_of_car</th>\n",
       "      <th>Car_Name_Activa 3g</th>\n",
       "      <th>Car_Name_Activa 4g</th>\n",
       "      <th>Car_Name_Bajaj  ct 100</th>\n",
       "      <th>Car_Name_Bajaj Avenger 150</th>\n",
       "      <th>...</th>\n",
       "      <th>Transmission_Automatic</th>\n",
       "      <th>Transmission_Manual</th>\n",
       "      <th>Seller_Type_Dealer</th>\n",
       "      <th>Seller_Type_Individual</th>\n",
       "      <th>Fuel_Type_CNG</th>\n",
       "      <th>Fuel_Type_Diesel</th>\n",
       "      <th>Fuel_Type_Petrol</th>\n",
       "      <th>price_range_Budget</th>\n",
       "      <th>price_range_Luxury</th>\n",
       "      <th>price_range_Medium</th>\n",
       "    </tr>\n",
       "  </thead>\n",
       "  <tbody>\n",
       "    <tr>\n",
       "      <th>0</th>\n",
       "      <td>0</td>\n",
       "      <td>0.526339</td>\n",
       "      <td>0.748188</td>\n",
       "      <td>4.431380</td>\n",
       "      <td>0</td>\n",
       "      <td>6</td>\n",
       "      <td>0</td>\n",
       "      <td>0</td>\n",
       "      <td>0</td>\n",
       "      <td>0</td>\n",
       "      <td>...</td>\n",
       "      <td>0</td>\n",
       "      <td>1</td>\n",
       "      <td>1</td>\n",
       "      <td>0</td>\n",
       "      <td>0</td>\n",
       "      <td>0</td>\n",
       "      <td>1</td>\n",
       "      <td>1</td>\n",
       "      <td>0</td>\n",
       "      <td>0</td>\n",
       "    </tr>\n",
       "    <tr>\n",
       "      <th>1</th>\n",
       "      <td>1</td>\n",
       "      <td>0.677607</td>\n",
       "      <td>0.980003</td>\n",
       "      <td>4.633479</td>\n",
       "      <td>0</td>\n",
       "      <td>7</td>\n",
       "      <td>0</td>\n",
       "      <td>0</td>\n",
       "      <td>0</td>\n",
       "      <td>0</td>\n",
       "      <td>...</td>\n",
       "      <td>0</td>\n",
       "      <td>1</td>\n",
       "      <td>1</td>\n",
       "      <td>0</td>\n",
       "      <td>0</td>\n",
       "      <td>1</td>\n",
       "      <td>0</td>\n",
       "      <td>1</td>\n",
       "      <td>0</td>\n",
       "      <td>0</td>\n",
       "    </tr>\n",
       "    <tr>\n",
       "      <th>2</th>\n",
       "      <td>2</td>\n",
       "      <td>0.860937</td>\n",
       "      <td>0.993877</td>\n",
       "      <td>3.838912</td>\n",
       "      <td>0</td>\n",
       "      <td>3</td>\n",
       "      <td>0</td>\n",
       "      <td>0</td>\n",
       "      <td>0</td>\n",
       "      <td>0</td>\n",
       "      <td>...</td>\n",
       "      <td>0</td>\n",
       "      <td>1</td>\n",
       "      <td>1</td>\n",
       "      <td>0</td>\n",
       "      <td>0</td>\n",
       "      <td>0</td>\n",
       "      <td>1</td>\n",
       "      <td>1</td>\n",
       "      <td>0</td>\n",
       "      <td>0</td>\n",
       "    </tr>\n",
       "    <tr>\n",
       "      <th>3</th>\n",
       "      <td>3</td>\n",
       "      <td>0.456366</td>\n",
       "      <td>0.619093</td>\n",
       "      <td>3.716087</td>\n",
       "      <td>0</td>\n",
       "      <td>9</td>\n",
       "      <td>0</td>\n",
       "      <td>0</td>\n",
       "      <td>0</td>\n",
       "      <td>0</td>\n",
       "      <td>...</td>\n",
       "      <td>0</td>\n",
       "      <td>1</td>\n",
       "      <td>1</td>\n",
       "      <td>0</td>\n",
       "      <td>0</td>\n",
       "      <td>0</td>\n",
       "      <td>1</td>\n",
       "      <td>1</td>\n",
       "      <td>0</td>\n",
       "      <td>0</td>\n",
       "    </tr>\n",
       "    <tr>\n",
       "      <th>4</th>\n",
       "      <td>4</td>\n",
       "      <td>0.663701</td>\n",
       "      <td>0.837588</td>\n",
       "      <td>4.627888</td>\n",
       "      <td>0</td>\n",
       "      <td>6</td>\n",
       "      <td>0</td>\n",
       "      <td>0</td>\n",
       "      <td>0</td>\n",
       "      <td>0</td>\n",
       "      <td>...</td>\n",
       "      <td>0</td>\n",
       "      <td>1</td>\n",
       "      <td>1</td>\n",
       "      <td>0</td>\n",
       "      <td>0</td>\n",
       "      <td>1</td>\n",
       "      <td>0</td>\n",
       "      <td>1</td>\n",
       "      <td>0</td>\n",
       "      <td>0</td>\n",
       "    </tr>\n",
       "    <tr>\n",
       "      <th>...</th>\n",
       "      <td>...</td>\n",
       "      <td>...</td>\n",
       "      <td>...</td>\n",
       "      <td>...</td>\n",
       "      <td>...</td>\n",
       "      <td>...</td>\n",
       "      <td>...</td>\n",
       "      <td>...</td>\n",
       "      <td>...</td>\n",
       "      <td>...</td>\n",
       "      <td>...</td>\n",
       "      <td>...</td>\n",
       "      <td>...</td>\n",
       "      <td>...</td>\n",
       "      <td>...</td>\n",
       "      <td>...</td>\n",
       "      <td>...</td>\n",
       "      <td>...</td>\n",
       "      <td>...</td>\n",
       "      <td>...</td>\n",
       "      <td>...</td>\n",
       "    </tr>\n",
       "    <tr>\n",
       "      <th>295</th>\n",
       "      <td>296</td>\n",
       "      <td>0.978181</td>\n",
       "      <td>1.064832</td>\n",
       "      <td>4.531338</td>\n",
       "      <td>0</td>\n",
       "      <td>4</td>\n",
       "      <td>0</td>\n",
       "      <td>0</td>\n",
       "      <td>0</td>\n",
       "      <td>0</td>\n",
       "      <td>...</td>\n",
       "      <td>0</td>\n",
       "      <td>1</td>\n",
       "      <td>1</td>\n",
       "      <td>0</td>\n",
       "      <td>0</td>\n",
       "      <td>1</td>\n",
       "      <td>0</td>\n",
       "      <td>0</td>\n",
       "      <td>0</td>\n",
       "      <td>1</td>\n",
       "    </tr>\n",
       "    <tr>\n",
       "      <th>296</th>\n",
       "      <td>297</td>\n",
       "      <td>0.603144</td>\n",
       "      <td>0.771587</td>\n",
       "      <td>4.778158</td>\n",
       "      <td>0</td>\n",
       "      <td>5</td>\n",
       "      <td>0</td>\n",
       "      <td>0</td>\n",
       "      <td>0</td>\n",
       "      <td>0</td>\n",
       "      <td>...</td>\n",
       "      <td>0</td>\n",
       "      <td>1</td>\n",
       "      <td>1</td>\n",
       "      <td>0</td>\n",
       "      <td>0</td>\n",
       "      <td>0</td>\n",
       "      <td>1</td>\n",
       "      <td>1</td>\n",
       "      <td>0</td>\n",
       "      <td>0</td>\n",
       "    </tr>\n",
       "    <tr>\n",
       "      <th>297</th>\n",
       "      <td>298</td>\n",
       "      <td>0.526339</td>\n",
       "      <td>1.041787</td>\n",
       "      <td>4.944162</td>\n",
       "      <td>0</td>\n",
       "      <td>11</td>\n",
       "      <td>0</td>\n",
       "      <td>0</td>\n",
       "      <td>0</td>\n",
       "      <td>0</td>\n",
       "      <td>...</td>\n",
       "      <td>0</td>\n",
       "      <td>1</td>\n",
       "      <td>1</td>\n",
       "      <td>0</td>\n",
       "      <td>0</td>\n",
       "      <td>0</td>\n",
       "      <td>1</td>\n",
       "      <td>1</td>\n",
       "      <td>0</td>\n",
       "      <td>0</td>\n",
       "    </tr>\n",
       "    <tr>\n",
       "      <th>298</th>\n",
       "      <td>299</td>\n",
       "      <td>1.061075</td>\n",
       "      <td>1.097257</td>\n",
       "      <td>3.954291</td>\n",
       "      <td>0</td>\n",
       "      <td>3</td>\n",
       "      <td>0</td>\n",
       "      <td>0</td>\n",
       "      <td>0</td>\n",
       "      <td>0</td>\n",
       "      <td>...</td>\n",
       "      <td>0</td>\n",
       "      <td>1</td>\n",
       "      <td>1</td>\n",
       "      <td>0</td>\n",
       "      <td>0</td>\n",
       "      <td>1</td>\n",
       "      <td>0</td>\n",
       "      <td>0</td>\n",
       "      <td>0</td>\n",
       "      <td>1</td>\n",
       "    </tr>\n",
       "    <tr>\n",
       "      <th>299</th>\n",
       "      <td>300</td>\n",
       "      <td>0.725095</td>\n",
       "      <td>0.771587</td>\n",
       "      <td>3.737590</td>\n",
       "      <td>0</td>\n",
       "      <td>4</td>\n",
       "      <td>0</td>\n",
       "      <td>0</td>\n",
       "      <td>0</td>\n",
       "      <td>0</td>\n",
       "      <td>...</td>\n",
       "      <td>0</td>\n",
       "      <td>1</td>\n",
       "      <td>1</td>\n",
       "      <td>0</td>\n",
       "      <td>0</td>\n",
       "      <td>0</td>\n",
       "      <td>1</td>\n",
       "      <td>1</td>\n",
       "      <td>0</td>\n",
       "      <td>0</td>\n",
       "    </tr>\n",
       "  </tbody>\n",
       "</table>\n",
       "<p>300 rows × 112 columns</p>\n",
       "</div>"
      ],
      "text/plain": [
       "     Unnamed: 0  Selling_Price  Present_Price  Kms_Driven  Owner  Age_of_car  \\\n",
       "0             0       0.526339       0.748188    4.431380      0           6   \n",
       "1             1       0.677607       0.980003    4.633479      0           7   \n",
       "2             2       0.860937       0.993877    3.838912      0           3   \n",
       "3             3       0.456366       0.619093    3.716087      0           9   \n",
       "4             4       0.663701       0.837588    4.627888      0           6   \n",
       "..          ...            ...            ...         ...    ...         ...   \n",
       "295         296       0.978181       1.064832    4.531338      0           4   \n",
       "296         297       0.603144       0.771587    4.778158      0           5   \n",
       "297         298       0.526339       1.041787    4.944162      0          11   \n",
       "298         299       1.061075       1.097257    3.954291      0           3   \n",
       "299         300       0.725095       0.771587    3.737590      0           4   \n",
       "\n",
       "     Car_Name_Activa 3g  Car_Name_Activa 4g  Car_Name_Bajaj  ct 100  \\\n",
       "0                     0                   0                       0   \n",
       "1                     0                   0                       0   \n",
       "2                     0                   0                       0   \n",
       "3                     0                   0                       0   \n",
       "4                     0                   0                       0   \n",
       "..                  ...                 ...                     ...   \n",
       "295                   0                   0                       0   \n",
       "296                   0                   0                       0   \n",
       "297                   0                   0                       0   \n",
       "298                   0                   0                       0   \n",
       "299                   0                   0                       0   \n",
       "\n",
       "     Car_Name_Bajaj Avenger 150  ...  Transmission_Automatic  \\\n",
       "0                             0  ...                       0   \n",
       "1                             0  ...                       0   \n",
       "2                             0  ...                       0   \n",
       "3                             0  ...                       0   \n",
       "4                             0  ...                       0   \n",
       "..                          ...  ...                     ...   \n",
       "295                           0  ...                       0   \n",
       "296                           0  ...                       0   \n",
       "297                           0  ...                       0   \n",
       "298                           0  ...                       0   \n",
       "299                           0  ...                       0   \n",
       "\n",
       "     Transmission_Manual  Seller_Type_Dealer  Seller_Type_Individual  \\\n",
       "0                      1                   1                       0   \n",
       "1                      1                   1                       0   \n",
       "2                      1                   1                       0   \n",
       "3                      1                   1                       0   \n",
       "4                      1                   1                       0   \n",
       "..                   ...                 ...                     ...   \n",
       "295                    1                   1                       0   \n",
       "296                    1                   1                       0   \n",
       "297                    1                   1                       0   \n",
       "298                    1                   1                       0   \n",
       "299                    1                   1                       0   \n",
       "\n",
       "     Fuel_Type_CNG  Fuel_Type_Diesel  Fuel_Type_Petrol  price_range_Budget  \\\n",
       "0                0                 0                 1                   1   \n",
       "1                0                 1                 0                   1   \n",
       "2                0                 0                 1                   1   \n",
       "3                0                 0                 1                   1   \n",
       "4                0                 1                 0                   1   \n",
       "..             ...               ...               ...                 ...   \n",
       "295              0                 1                 0                   0   \n",
       "296              0                 0                 1                   1   \n",
       "297              0                 0                 1                   1   \n",
       "298              0                 1                 0                   0   \n",
       "299              0                 0                 1                   1   \n",
       "\n",
       "     price_range_Luxury  price_range_Medium  \n",
       "0                     0                   0  \n",
       "1                     0                   0  \n",
       "2                     0                   0  \n",
       "3                     0                   0  \n",
       "4                     0                   0  \n",
       "..                  ...                 ...  \n",
       "295                   0                   1  \n",
       "296                   0                   0  \n",
       "297                   0                   0  \n",
       "298                   0                   1  \n",
       "299                   0                   0  \n",
       "\n",
       "[300 rows x 112 columns]"
      ]
     },
     "execution_count": 5,
     "metadata": {},
     "output_type": "execute_result"
    }
   ],
   "source": [
    "df = pd.read_csv('ANN_ready.csv')\n",
    "df"
   ]
  },
  {
   "cell_type": "code",
   "execution_count": 6,
   "metadata": {},
   "outputs": [
    {
     "name": "stdout",
     "output_type": "stream",
     "text": [
      "(300, 111)\n",
      "(300,)\n"
     ]
    }
   ],
   "source": [
    "X = df.copy(deep = True)\n",
    "X.drop(columns = 'Selling_Price' , inplace = True)\n",
    "y = df.loc[:,'Selling_Price']\n",
    "print(X.shape)\n",
    "print(y.shape)"
   ]
  },
  {
   "cell_type": "code",
   "execution_count": 7,
   "metadata": {},
   "outputs": [
    {
     "name": "stdout",
     "output_type": "stream",
     "text": [
      "(270, 111)\n",
      "(270,)\n",
      "(30, 111)\n",
      "(30,)\n"
     ]
    },
    {
     "data": {
      "text/plain": [
       "111"
      ]
     },
     "execution_count": 7,
     "metadata": {},
     "output_type": "execute_result"
    }
   ],
   "source": [
    "X_train, X_test, y_train, y_test = train_test_split(X,y, test_size=0.1, random_state = 0)\n",
    "print(X_train.shape)\n",
    "print(y_train.shape)\n",
    "print(X_test.shape)\n",
    "print(y_test.shape)\n",
    "n_features = X_train.shape[1]\n",
    "n_features"
   ]
  },
  {
   "cell_type": "code",
   "execution_count": 62,
   "metadata": {},
   "outputs": [],
   "source": [
    "from tensorflow.keras import Sequential\n",
    "\n",
    "model = Sequential()\n",
    "model.add(Dense(50, activation='relu', kernel_initializer='he_normal', input_shape=(n_features,)))\n",
    "model.add(Dense(50, activation='relu', kernel_initializer='he_normal'))\n",
    "model.add(Dense(units = 1, activation='relu', kernel_initializer='he_normal'))"
   ]
  },
  {
   "cell_type": "code",
   "execution_count": 70,
   "metadata": {},
   "outputs": [],
   "source": [
    "model.compile(\n",
    "        optimizer=keras.optimizers.Adam(learning_rate = 1e-4),\n",
    "        loss='mse',\n",
    "        metrics=\n",
    "        'MeanSquaredError'\n",
    ")"
   ]
  },
  {
   "cell_type": "code",
   "execution_count": 71,
   "metadata": {},
   "outputs": [
    {
     "name": "stdout",
     "output_type": "stream",
     "text": [
      "Model: \"sequential_2\"\n",
      "_________________________________________________________________\n",
      "Layer (type)                 Output Shape              Param #   \n",
      "=================================================================\n",
      "dense_6 (Dense)              (None, 50)                5600      \n",
      "_________________________________________________________________\n",
      "dense_7 (Dense)              (None, 50)                2550      \n",
      "_________________________________________________________________\n",
      "dense_8 (Dense)              (None, 1)                 51        \n",
      "=================================================================\n",
      "Total params: 8,201\n",
      "Trainable params: 8,201\n",
      "Non-trainable params: 0\n",
      "_________________________________________________________________\n"
     ]
    }
   ],
   "source": [
    "model.summary()"
   ]
  },
  {
   "cell_type": "code",
   "execution_count": 72,
   "metadata": {
    "scrolled": true
   },
   "outputs": [
    {
     "name": "stdout",
     "output_type": "stream",
     "text": [
      "Epoch 1/150\n",
      "8/8 - 1s - loss: 15.7910 - mean_squared_error: 15.7910 - val_loss: 8.4787 - val_mean_squared_error: 8.4787\n",
      "Epoch 2/150\n",
      "8/8 - 0s - loss: 3.5254 - mean_squared_error: 3.5254 - val_loss: 0.8776 - val_mean_squared_error: 0.8776\n",
      "Epoch 3/150\n",
      "8/8 - 0s - loss: 0.2795 - mean_squared_error: 0.2795 - val_loss: 0.3249 - val_mean_squared_error: 0.3249\n",
      "Epoch 4/150\n",
      "8/8 - 0s - loss: 0.3355 - mean_squared_error: 0.3355 - val_loss: 0.3759 - val_mean_squared_error: 0.3759\n",
      "Epoch 5/150\n",
      "8/8 - 0s - loss: 0.3708 - mean_squared_error: 0.3708 - val_loss: 0.3758 - val_mean_squared_error: 0.3758\n",
      "Epoch 6/150\n",
      "8/8 - 0s - loss: 0.3795 - mean_squared_error: 0.3795 - val_loss: 0.3758 - val_mean_squared_error: 0.3758\n",
      "Epoch 7/150\n",
      "8/8 - 0s - loss: 0.3817 - mean_squared_error: 0.3817 - val_loss: 0.3759 - val_mean_squared_error: 0.3759\n",
      "Epoch 8/150\n",
      "8/8 - 0s - loss: 0.3808 - mean_squared_error: 0.3808 - val_loss: 0.3760 - val_mean_squared_error: 0.3760\n",
      "Epoch 9/150\n",
      "8/8 - 0s - loss: 0.3786 - mean_squared_error: 0.3786 - val_loss: 0.3762 - val_mean_squared_error: 0.3762\n",
      "Epoch 10/150\n",
      "8/8 - 0s - loss: 0.3754 - mean_squared_error: 0.3754 - val_loss: 0.3763 - val_mean_squared_error: 0.3763\n",
      "Epoch 11/150\n",
      "8/8 - 0s - loss: 0.3718 - mean_squared_error: 0.3718 - val_loss: 0.3765 - val_mean_squared_error: 0.3765\n",
      "Epoch 12/150\n",
      "8/8 - 0s - loss: 0.3676 - mean_squared_error: 0.3676 - val_loss: 0.3766 - val_mean_squared_error: 0.3766\n",
      "Epoch 13/150\n",
      "8/8 - 0s - loss: 0.3629 - mean_squared_error: 0.3629 - val_loss: 0.3767 - val_mean_squared_error: 0.3767\n",
      "Epoch 14/150\n",
      "8/8 - 0s - loss: 0.3582 - mean_squared_error: 0.3582 - val_loss: 0.3769 - val_mean_squared_error: 0.3769\n",
      "Epoch 15/150\n",
      "8/8 - 0s - loss: 0.3518 - mean_squared_error: 0.3518 - val_loss: 0.3771 - val_mean_squared_error: 0.3771\n",
      "Epoch 16/150\n",
      "8/8 - 0s - loss: 0.3467 - mean_squared_error: 0.3467 - val_loss: 0.3763 - val_mean_squared_error: 0.3763\n",
      "Epoch 17/150\n",
      "8/8 - 0s - loss: 0.3410 - mean_squared_error: 0.3410 - val_loss: 0.3743 - val_mean_squared_error: 0.3743\n",
      "Epoch 18/150\n",
      "8/8 - 0s - loss: 0.3350 - mean_squared_error: 0.3350 - val_loss: 0.3725 - val_mean_squared_error: 0.3725\n",
      "Epoch 19/150\n",
      "8/8 - 0s - loss: 0.3278 - mean_squared_error: 0.3278 - val_loss: 0.3703 - val_mean_squared_error: 0.3703\n",
      "Epoch 20/150\n",
      "8/8 - 0s - loss: 0.3107 - mean_squared_error: 0.3107 - val_loss: 0.3475 - val_mean_squared_error: 0.3475\n",
      "Epoch 21/150\n",
      "8/8 - 0s - loss: 0.2619 - mean_squared_error: 0.2619 - val_loss: 0.2460 - val_mean_squared_error: 0.2460\n",
      "Epoch 22/150\n",
      "8/8 - 0s - loss: 0.1544 - mean_squared_error: 0.1544 - val_loss: 0.1756 - val_mean_squared_error: 0.1756\n",
      "Epoch 23/150\n",
      "8/8 - 0s - loss: 0.1303 - mean_squared_error: 0.1303 - val_loss: 0.2006 - val_mean_squared_error: 0.2006\n",
      "Epoch 24/150\n",
      "8/8 - 0s - loss: 0.1210 - mean_squared_error: 0.1210 - val_loss: 0.1684 - val_mean_squared_error: 0.1684\n",
      "Epoch 25/150\n",
      "8/8 - 0s - loss: 0.1079 - mean_squared_error: 0.1079 - val_loss: 0.1650 - val_mean_squared_error: 0.1650\n",
      "Epoch 26/150\n",
      "8/8 - 0s - loss: 0.1036 - mean_squared_error: 0.1036 - val_loss: 0.1603 - val_mean_squared_error: 0.1603\n",
      "Epoch 27/150\n",
      "8/8 - 0s - loss: 0.0971 - mean_squared_error: 0.0971 - val_loss: 0.1584 - val_mean_squared_error: 0.1584\n",
      "Epoch 28/150\n",
      "8/8 - 0s - loss: 0.0948 - mean_squared_error: 0.0948 - val_loss: 0.1565 - val_mean_squared_error: 0.1565\n",
      "Epoch 29/150\n",
      "8/8 - 0s - loss: 0.0931 - mean_squared_error: 0.0931 - val_loss: 0.1540 - val_mean_squared_error: 0.1540\n",
      "Epoch 30/150\n",
      "8/8 - 0s - loss: 0.0917 - mean_squared_error: 0.0917 - val_loss: 0.1531 - val_mean_squared_error: 0.1531\n",
      "Epoch 31/150\n",
      "8/8 - 0s - loss: 0.0902 - mean_squared_error: 0.0902 - val_loss: 0.1525 - val_mean_squared_error: 0.1525\n",
      "Epoch 32/150\n",
      "8/8 - 0s - loss: 0.0894 - mean_squared_error: 0.0894 - val_loss: 0.1521 - val_mean_squared_error: 0.1521\n",
      "Epoch 33/150\n",
      "8/8 - 0s - loss: 0.0887 - mean_squared_error: 0.0887 - val_loss: 0.1520 - val_mean_squared_error: 0.1520\n",
      "Epoch 34/150\n",
      "8/8 - 0s - loss: 0.0877 - mean_squared_error: 0.0877 - val_loss: 0.1513 - val_mean_squared_error: 0.1513\n",
      "Epoch 35/150\n",
      "8/8 - 0s - loss: 0.0866 - mean_squared_error: 0.0866 - val_loss: 0.1502 - val_mean_squared_error: 0.1502\n",
      "Epoch 36/150\n",
      "8/8 - 0s - loss: 0.0860 - mean_squared_error: 0.0860 - val_loss: 0.1497 - val_mean_squared_error: 0.1497\n",
      "Epoch 37/150\n",
      "8/8 - 0s - loss: 0.0854 - mean_squared_error: 0.0854 - val_loss: 0.1497 - val_mean_squared_error: 0.1497\n",
      "Epoch 38/150\n",
      "8/8 - 0s - loss: 0.0842 - mean_squared_error: 0.0842 - val_loss: 0.1489 - val_mean_squared_error: 0.1489\n",
      "Epoch 39/150\n",
      "8/8 - 0s - loss: 0.0836 - mean_squared_error: 0.0836 - val_loss: 0.1482 - val_mean_squared_error: 0.1482\n",
      "Epoch 40/150\n",
      "8/8 - 0s - loss: 0.0829 - mean_squared_error: 0.0829 - val_loss: 0.1479 - val_mean_squared_error: 0.1479\n",
      "Epoch 41/150\n",
      "8/8 - 0s - loss: 0.0824 - mean_squared_error: 0.0824 - val_loss: 0.1481 - val_mean_squared_error: 0.1481\n",
      "Epoch 42/150\n",
      "8/8 - 0s - loss: 0.0818 - mean_squared_error: 0.0818 - val_loss: 0.1470 - val_mean_squared_error: 0.1470\n",
      "Epoch 43/150\n",
      "8/8 - 0s - loss: 0.0811 - mean_squared_error: 0.0811 - val_loss: 0.1465 - val_mean_squared_error: 0.1465\n",
      "Epoch 44/150\n",
      "8/8 - 0s - loss: 0.0810 - mean_squared_error: 0.0810 - val_loss: 0.1464 - val_mean_squared_error: 0.1464\n",
      "Epoch 45/150\n",
      "8/8 - 0s - loss: 0.0799 - mean_squared_error: 0.0799 - val_loss: 0.1458 - val_mean_squared_error: 0.1458\n",
      "Epoch 46/150\n",
      "8/8 - 0s - loss: 0.0794 - mean_squared_error: 0.0794 - val_loss: 0.1455 - val_mean_squared_error: 0.1455\n",
      "Epoch 47/150\n",
      "8/8 - 0s - loss: 0.0787 - mean_squared_error: 0.0787 - val_loss: 0.1453 - val_mean_squared_error: 0.1453\n",
      "Epoch 48/150\n",
      "8/8 - 0s - loss: 0.0783 - mean_squared_error: 0.0783 - val_loss: 0.1448 - val_mean_squared_error: 0.1448\n",
      "Epoch 49/150\n",
      "8/8 - 0s - loss: 0.0778 - mean_squared_error: 0.0778 - val_loss: 0.1444 - val_mean_squared_error: 0.1444\n",
      "Epoch 50/150\n",
      "8/8 - 0s - loss: 0.0773 - mean_squared_error: 0.0773 - val_loss: 0.1444 - val_mean_squared_error: 0.1444\n",
      "Epoch 51/150\n",
      "8/8 - 0s - loss: 0.0768 - mean_squared_error: 0.0768 - val_loss: 0.1437 - val_mean_squared_error: 0.1437\n",
      "Epoch 52/150\n",
      "8/8 - 0s - loss: 0.0764 - mean_squared_error: 0.0764 - val_loss: 0.1438 - val_mean_squared_error: 0.1438\n",
      "Epoch 53/150\n",
      "8/8 - 0s - loss: 0.0758 - mean_squared_error: 0.0758 - val_loss: 0.1430 - val_mean_squared_error: 0.1430\n",
      "Epoch 54/150\n",
      "8/8 - 0s - loss: 0.0753 - mean_squared_error: 0.0753 - val_loss: 0.1427 - val_mean_squared_error: 0.1427\n",
      "Epoch 55/150\n",
      "8/8 - 0s - loss: 0.0748 - mean_squared_error: 0.0748 - val_loss: 0.1425 - val_mean_squared_error: 0.1425\n",
      "Epoch 56/150\n",
      "8/8 - 0s - loss: 0.0743 - mean_squared_error: 0.0743 - val_loss: 0.1422 - val_mean_squared_error: 0.1422\n",
      "Epoch 57/150\n",
      "8/8 - 0s - loss: 0.0740 - mean_squared_error: 0.0740 - val_loss: 0.1417 - val_mean_squared_error: 0.1417\n",
      "Epoch 58/150\n",
      "8/8 - 0s - loss: 0.0738 - mean_squared_error: 0.0738 - val_loss: 0.1416 - val_mean_squared_error: 0.1416\n",
      "Epoch 59/150\n",
      "8/8 - 0s - loss: 0.0734 - mean_squared_error: 0.0734 - val_loss: 0.1411 - val_mean_squared_error: 0.1411\n",
      "Epoch 60/150\n",
      "8/8 - 0s - loss: 0.0726 - mean_squared_error: 0.0726 - val_loss: 0.1411 - val_mean_squared_error: 0.1411\n",
      "Epoch 61/150\n",
      "8/8 - 0s - loss: 0.0723 - mean_squared_error: 0.0723 - val_loss: 0.1413 - val_mean_squared_error: 0.1413\n",
      "Epoch 62/150\n",
      "8/8 - 0s - loss: 0.0721 - mean_squared_error: 0.0721 - val_loss: 0.1403 - val_mean_squared_error: 0.1403\n",
      "Epoch 63/150\n",
      "8/8 - 0s - loss: 0.0716 - mean_squared_error: 0.0716 - val_loss: 0.1403 - val_mean_squared_error: 0.1403\n",
      "Epoch 64/150\n",
      "8/8 - 0s - loss: 0.0710 - mean_squared_error: 0.0710 - val_loss: 0.1399 - val_mean_squared_error: 0.1399\n",
      "Epoch 65/150\n",
      "8/8 - 0s - loss: 0.0708 - mean_squared_error: 0.0708 - val_loss: 0.1397 - val_mean_squared_error: 0.1397\n",
      "Epoch 66/150\n",
      "8/8 - 0s - loss: 0.0704 - mean_squared_error: 0.0704 - val_loss: 0.1396 - val_mean_squared_error: 0.1396\n",
      "Epoch 67/150\n",
      "8/8 - 0s - loss: 0.0701 - mean_squared_error: 0.0701 - val_loss: 0.1394 - val_mean_squared_error: 0.1394\n",
      "Epoch 68/150\n",
      "8/8 - 0s - loss: 0.0694 - mean_squared_error: 0.0694 - val_loss: 0.1387 - val_mean_squared_error: 0.1387\n",
      "Epoch 69/150\n",
      "8/8 - 0s - loss: 0.0692 - mean_squared_error: 0.0692 - val_loss: 0.1385 - val_mean_squared_error: 0.1385\n",
      "Epoch 70/150\n",
      "8/8 - 0s - loss: 0.0689 - mean_squared_error: 0.0689 - val_loss: 0.1385 - val_mean_squared_error: 0.1385\n"
     ]
    },
    {
     "name": "stdout",
     "output_type": "stream",
     "text": [
      "Epoch 71/150\n",
      "8/8 - 0s - loss: 0.0685 - mean_squared_error: 0.0685 - val_loss: 0.1381 - val_mean_squared_error: 0.1381\n",
      "Epoch 72/150\n",
      "8/8 - 0s - loss: 0.0681 - mean_squared_error: 0.0681 - val_loss: 0.1382 - val_mean_squared_error: 0.1382\n",
      "Epoch 73/150\n",
      "8/8 - 0s - loss: 0.0678 - mean_squared_error: 0.0678 - val_loss: 0.1383 - val_mean_squared_error: 0.1383\n",
      "Epoch 74/150\n",
      "8/8 - 0s - loss: 0.0675 - mean_squared_error: 0.0675 - val_loss: 0.1374 - val_mean_squared_error: 0.1374\n",
      "Epoch 75/150\n",
      "8/8 - 0s - loss: 0.0671 - mean_squared_error: 0.0671 - val_loss: 0.1373 - val_mean_squared_error: 0.1373\n",
      "Epoch 76/150\n",
      "8/8 - 0s - loss: 0.0667 - mean_squared_error: 0.0667 - val_loss: 0.1372 - val_mean_squared_error: 0.1372\n",
      "Epoch 77/150\n",
      "8/8 - 0s - loss: 0.0665 - mean_squared_error: 0.0665 - val_loss: 0.1371 - val_mean_squared_error: 0.1371\n",
      "Epoch 78/150\n",
      "8/8 - 0s - loss: 0.0662 - mean_squared_error: 0.0662 - val_loss: 0.1368 - val_mean_squared_error: 0.1368\n",
      "Epoch 79/150\n",
      "8/8 - 0s - loss: 0.0661 - mean_squared_error: 0.0661 - val_loss: 0.1363 - val_mean_squared_error: 0.1363\n",
      "Epoch 80/150\n",
      "8/8 - 0s - loss: 0.0656 - mean_squared_error: 0.0656 - val_loss: 0.1368 - val_mean_squared_error: 0.1368\n",
      "Epoch 81/150\n",
      "8/8 - 0s - loss: 0.0652 - mean_squared_error: 0.0652 - val_loss: 0.1362 - val_mean_squared_error: 0.1362\n",
      "Epoch 82/150\n",
      "8/8 - 0s - loss: 0.0649 - mean_squared_error: 0.0649 - val_loss: 0.1362 - val_mean_squared_error: 0.1362\n",
      "Epoch 83/150\n",
      "8/8 - 0s - loss: 0.0646 - mean_squared_error: 0.0646 - val_loss: 0.1362 - val_mean_squared_error: 0.1362\n",
      "Epoch 84/150\n",
      "8/8 - 0s - loss: 0.0643 - mean_squared_error: 0.0643 - val_loss: 0.1351 - val_mean_squared_error: 0.1351\n",
      "Epoch 85/150\n",
      "8/8 - 0s - loss: 0.0633 - mean_squared_error: 0.0633 - val_loss: 0.1353 - val_mean_squared_error: 0.1353\n",
      "Epoch 86/150\n",
      "8/8 - 0s - loss: 0.0633 - mean_squared_error: 0.0633 - val_loss: 0.1353 - val_mean_squared_error: 0.1353\n",
      "Epoch 87/150\n",
      "8/8 - 0s - loss: 0.0626 - mean_squared_error: 0.0626 - val_loss: 0.1344 - val_mean_squared_error: 0.1344\n",
      "Epoch 88/150\n",
      "8/8 - 0s - loss: 0.0623 - mean_squared_error: 0.0623 - val_loss: 0.1343 - val_mean_squared_error: 0.1343\n",
      "Epoch 89/150\n",
      "8/8 - 0s - loss: 0.0620 - mean_squared_error: 0.0620 - val_loss: 0.1342 - val_mean_squared_error: 0.1342\n",
      "Epoch 90/150\n",
      "8/8 - 0s - loss: 0.0618 - mean_squared_error: 0.0618 - val_loss: 0.1340 - val_mean_squared_error: 0.1340\n",
      "Epoch 91/150\n",
      "8/8 - 0s - loss: 0.0614 - mean_squared_error: 0.0614 - val_loss: 0.1334 - val_mean_squared_error: 0.1334\n",
      "Epoch 92/150\n",
      "8/8 - 0s - loss: 0.0612 - mean_squared_error: 0.0612 - val_loss: 0.1333 - val_mean_squared_error: 0.1333\n",
      "Epoch 93/150\n",
      "8/8 - 0s - loss: 0.0609 - mean_squared_error: 0.0609 - val_loss: 0.1336 - val_mean_squared_error: 0.1336\n",
      "Epoch 94/150\n",
      "8/8 - 0s - loss: 0.0611 - mean_squared_error: 0.0611 - val_loss: 0.1326 - val_mean_squared_error: 0.1326\n",
      "Epoch 95/150\n",
      "8/8 - 0s - loss: 0.0613 - mean_squared_error: 0.0613 - val_loss: 0.1328 - val_mean_squared_error: 0.1328\n",
      "Epoch 96/150\n",
      "8/8 - 0s - loss: 0.0604 - mean_squared_error: 0.0604 - val_loss: 0.1321 - val_mean_squared_error: 0.1321\n",
      "Epoch 97/150\n",
      "8/8 - 0s - loss: 0.0603 - mean_squared_error: 0.0603 - val_loss: 0.1323 - val_mean_squared_error: 0.1323\n",
      "Epoch 98/150\n",
      "8/8 - 0s - loss: 0.0598 - mean_squared_error: 0.0598 - val_loss: 0.1317 - val_mean_squared_error: 0.1317\n",
      "Epoch 99/150\n",
      "8/8 - 0s - loss: 0.0596 - mean_squared_error: 0.0596 - val_loss: 0.1316 - val_mean_squared_error: 0.1316\n",
      "Epoch 100/150\n",
      "8/8 - 0s - loss: 0.0595 - mean_squared_error: 0.0595 - val_loss: 0.1317 - val_mean_squared_error: 0.1317\n",
      "Epoch 101/150\n",
      "8/8 - 0s - loss: 0.0596 - mean_squared_error: 0.0596 - val_loss: 0.1312 - val_mean_squared_error: 0.1312\n",
      "Epoch 102/150\n",
      "8/8 - 0s - loss: 0.0589 - mean_squared_error: 0.0589 - val_loss: 0.1318 - val_mean_squared_error: 0.1318\n",
      "Epoch 103/150\n",
      "8/8 - 0s - loss: 0.0588 - mean_squared_error: 0.0588 - val_loss: 0.1309 - val_mean_squared_error: 0.1309\n",
      "Epoch 104/150\n",
      "8/8 - 0s - loss: 0.0586 - mean_squared_error: 0.0586 - val_loss: 0.1303 - val_mean_squared_error: 0.1303\n",
      "Epoch 105/150\n",
      "8/8 - 0s - loss: 0.0585 - mean_squared_error: 0.0585 - val_loss: 0.1306 - val_mean_squared_error: 0.1306\n",
      "Epoch 106/150\n",
      "8/8 - 0s - loss: 0.0583 - mean_squared_error: 0.0583 - val_loss: 0.1301 - val_mean_squared_error: 0.1301\n",
      "Epoch 107/150\n",
      "8/8 - 0s - loss: 0.0580 - mean_squared_error: 0.0580 - val_loss: 0.1303 - val_mean_squared_error: 0.1303\n",
      "Epoch 108/150\n",
      "8/8 - 0s - loss: 0.0578 - mean_squared_error: 0.0578 - val_loss: 0.1301 - val_mean_squared_error: 0.1301\n",
      "Epoch 109/150\n",
      "8/8 - 0s - loss: 0.0578 - mean_squared_error: 0.0578 - val_loss: 0.1298 - val_mean_squared_error: 0.1298\n",
      "Epoch 110/150\n",
      "8/8 - 0s - loss: 0.0574 - mean_squared_error: 0.0574 - val_loss: 0.1298 - val_mean_squared_error: 0.1298\n",
      "Epoch 111/150\n",
      "8/8 - 0s - loss: 0.0574 - mean_squared_error: 0.0574 - val_loss: 0.1296 - val_mean_squared_error: 0.1296\n",
      "Epoch 112/150\n",
      "8/8 - 0s - loss: 0.0571 - mean_squared_error: 0.0571 - val_loss: 0.1290 - val_mean_squared_error: 0.1290\n",
      "Epoch 113/150\n",
      "8/8 - 0s - loss: 0.0570 - mean_squared_error: 0.0570 - val_loss: 0.1294 - val_mean_squared_error: 0.1294\n",
      "Epoch 114/150\n",
      "8/8 - 0s - loss: 0.0571 - mean_squared_error: 0.0571 - val_loss: 0.1293 - val_mean_squared_error: 0.1293\n",
      "Epoch 115/150\n",
      "8/8 - 0s - loss: 0.0573 - mean_squared_error: 0.0573 - val_loss: 0.1296 - val_mean_squared_error: 0.1296\n",
      "Epoch 116/150\n",
      "8/8 - 0s - loss: 0.0567 - mean_squared_error: 0.0567 - val_loss: 0.1283 - val_mean_squared_error: 0.1283\n",
      "Epoch 117/150\n",
      "8/8 - 0s - loss: 0.0566 - mean_squared_error: 0.0566 - val_loss: 0.1292 - val_mean_squared_error: 0.1292\n",
      "Epoch 118/150\n",
      "8/8 - 0s - loss: 0.0562 - mean_squared_error: 0.0562 - val_loss: 0.1281 - val_mean_squared_error: 0.1281\n",
      "Epoch 119/150\n",
      "8/8 - 0s - loss: 0.0561 - mean_squared_error: 0.0561 - val_loss: 0.1286 - val_mean_squared_error: 0.1286\n",
      "Epoch 120/150\n",
      "8/8 - 0s - loss: 0.0560 - mean_squared_error: 0.0560 - val_loss: 0.1277 - val_mean_squared_error: 0.1277\n",
      "Epoch 121/150\n",
      "8/8 - 0s - loss: 0.0556 - mean_squared_error: 0.0556 - val_loss: 0.1284 - val_mean_squared_error: 0.1284\n",
      "Epoch 122/150\n",
      "8/8 - 0s - loss: 0.0556 - mean_squared_error: 0.0556 - val_loss: 0.1277 - val_mean_squared_error: 0.1277\n",
      "Epoch 123/150\n",
      "8/8 - 0s - loss: 0.0554 - mean_squared_error: 0.0554 - val_loss: 0.1277 - val_mean_squared_error: 0.1277\n",
      "Epoch 124/150\n",
      "8/8 - 0s - loss: 0.0555 - mean_squared_error: 0.0555 - val_loss: 0.1277 - val_mean_squared_error: 0.1277\n",
      "Epoch 125/150\n",
      "8/8 - 0s - loss: 0.0552 - mean_squared_error: 0.0552 - val_loss: 0.1274 - val_mean_squared_error: 0.1274\n",
      "Epoch 126/150\n",
      "8/8 - 0s - loss: 0.0550 - mean_squared_error: 0.0550 - val_loss: 0.1274 - val_mean_squared_error: 0.1274\n",
      "Epoch 127/150\n",
      "8/8 - 0s - loss: 0.0548 - mean_squared_error: 0.0548 - val_loss: 0.1267 - val_mean_squared_error: 0.1267\n",
      "Epoch 128/150\n",
      "8/8 - 0s - loss: 0.0546 - mean_squared_error: 0.0546 - val_loss: 0.1276 - val_mean_squared_error: 0.1276\n",
      "Epoch 129/150\n",
      "8/8 - 0s - loss: 0.0548 - mean_squared_error: 0.0548 - val_loss: 0.1264 - val_mean_squared_error: 0.1264\n",
      "Epoch 130/150\n",
      "8/8 - 0s - loss: 0.0547 - mean_squared_error: 0.0547 - val_loss: 0.1262 - val_mean_squared_error: 0.1262\n",
      "Epoch 131/150\n",
      "8/8 - 0s - loss: 0.0541 - mean_squared_error: 0.0541 - val_loss: 0.1276 - val_mean_squared_error: 0.1276\n",
      "Epoch 132/150\n",
      "8/8 - 0s - loss: 0.0548 - mean_squared_error: 0.0548 - val_loss: 0.1263 - val_mean_squared_error: 0.1263\n",
      "Epoch 133/150\n",
      "8/8 - 0s - loss: 0.0541 - mean_squared_error: 0.0541 - val_loss: 0.1259 - val_mean_squared_error: 0.1259\n",
      "Epoch 134/150\n",
      "8/8 - 0s - loss: 0.0541 - mean_squared_error: 0.0541 - val_loss: 0.1265 - val_mean_squared_error: 0.1265\n",
      "Epoch 135/150\n",
      "8/8 - 0s - loss: 0.0538 - mean_squared_error: 0.0538 - val_loss: 0.1258 - val_mean_squared_error: 0.1258\n",
      "Epoch 136/150\n",
      "8/8 - 0s - loss: 0.0537 - mean_squared_error: 0.0537 - val_loss: 0.1262 - val_mean_squared_error: 0.1262\n",
      "Epoch 137/150\n",
      "8/8 - 0s - loss: 0.0534 - mean_squared_error: 0.0534 - val_loss: 0.1257 - val_mean_squared_error: 0.1257\n",
      "Epoch 138/150\n",
      "8/8 - 0s - loss: 0.0533 - mean_squared_error: 0.0533 - val_loss: 0.1258 - val_mean_squared_error: 0.1258\n",
      "Epoch 139/150\n",
      "8/8 - 0s - loss: 0.0534 - mean_squared_error: 0.0534 - val_loss: 0.1254 - val_mean_squared_error: 0.1254\n",
      "Epoch 140/150\n"
     ]
    },
    {
     "name": "stdout",
     "output_type": "stream",
     "text": [
      "8/8 - 0s - loss: 0.0531 - mean_squared_error: 0.0531 - val_loss: 0.1255 - val_mean_squared_error: 0.1255\n",
      "Epoch 141/150\n",
      "8/8 - 0s - loss: 0.0530 - mean_squared_error: 0.0530 - val_loss: 0.1256 - val_mean_squared_error: 0.1256\n",
      "Epoch 142/150\n",
      "8/8 - 0s - loss: 0.0529 - mean_squared_error: 0.0529 - val_loss: 0.1255 - val_mean_squared_error: 0.1255\n",
      "Epoch 143/150\n",
      "8/8 - 0s - loss: 0.0527 - mean_squared_error: 0.0527 - val_loss: 0.1249 - val_mean_squared_error: 0.1249\n",
      "Epoch 144/150\n",
      "8/8 - 0s - loss: 0.0531 - mean_squared_error: 0.0531 - val_loss: 0.1250 - val_mean_squared_error: 0.1250\n",
      "Epoch 145/150\n",
      "8/8 - 0s - loss: 0.0535 - mean_squared_error: 0.0535 - val_loss: 0.1258 - val_mean_squared_error: 0.1258\n",
      "Epoch 146/150\n",
      "8/8 - 0s - loss: 0.0527 - mean_squared_error: 0.0527 - val_loss: 0.1246 - val_mean_squared_error: 0.1246\n",
      "Epoch 147/150\n",
      "8/8 - 0s - loss: 0.0526 - mean_squared_error: 0.0526 - val_loss: 0.1257 - val_mean_squared_error: 0.1257\n",
      "Epoch 148/150\n",
      "8/8 - 0s - loss: 0.0521 - mean_squared_error: 0.0521 - val_loss: 0.1244 - val_mean_squared_error: 0.1244\n",
      "Epoch 149/150\n",
      "8/8 - 0s - loss: 0.0525 - mean_squared_error: 0.0525 - val_loss: 0.1252 - val_mean_squared_error: 0.1252\n",
      "Epoch 150/150\n",
      "8/8 - 0s - loss: 0.0525 - mean_squared_error: 0.0525 - val_loss: 0.1250 - val_mean_squared_error: 0.1250\n"
     ]
    }
   ],
   "source": [
    "# fit the model\n",
    "model_history = model.fit(X_train, y_train, validation_split = 0.1 ,epochs=150, verbose=2)"
   ]
  },
  {
   "cell_type": "code",
   "execution_count": 73,
   "metadata": {},
   "outputs": [
    {
     "name": "stdout",
     "output_type": "stream",
     "text": [
      "dict_keys(['loss', 'mean_squared_error', 'val_loss', 'val_mean_squared_error'])\n"
     ]
    }
   ],
   "source": [
    "print(model_history.history.keys())"
   ]
  },
  {
   "cell_type": "code",
   "execution_count": 75,
   "metadata": {},
   "outputs": [
    {
     "data": {
      "application/javascript": [
       "\n",
       "        if (window._pyforest_update_imports_cell) { window._pyforest_update_imports_cell('import pandas as pd\\nimport matplotlib.pyplot as plt'); }\n",
       "    "
      ],
      "text/plain": [
       "<IPython.core.display.Javascript object>"
      ]
     },
     "metadata": {},
     "output_type": "display_data"
    },
    {
     "data": {
      "application/javascript": [
       "\n",
       "        if (window._pyforest_update_imports_cell) { window._pyforest_update_imports_cell('import pandas as pd\\nimport matplotlib.pyplot as plt'); }\n",
       "    "
      ],
      "text/plain": [
       "<IPython.core.display.Javascript object>"
      ]
     },
     "metadata": {},
     "output_type": "display_data"
    },
    {
     "data": {
      "application/javascript": [
       "\n",
       "        if (window._pyforest_update_imports_cell) { window._pyforest_update_imports_cell('import pandas as pd\\nimport matplotlib.pyplot as plt'); }\n",
       "    "
      ],
      "text/plain": [
       "<IPython.core.display.Javascript object>"
      ]
     },
     "metadata": {},
     "output_type": "display_data"
    },
    {
     "data": {
      "application/javascript": [
       "\n",
       "        if (window._pyforest_update_imports_cell) { window._pyforest_update_imports_cell('import pandas as pd\\nimport matplotlib.pyplot as plt'); }\n",
       "    "
      ],
      "text/plain": [
       "<IPython.core.display.Javascript object>"
      ]
     },
     "metadata": {},
     "output_type": "display_data"
    },
    {
     "data": {
      "application/javascript": [
       "\n",
       "        if (window._pyforest_update_imports_cell) { window._pyforest_update_imports_cell('import pandas as pd\\nimport matplotlib.pyplot as plt'); }\n",
       "    "
      ],
      "text/plain": [
       "<IPython.core.display.Javascript object>"
      ]
     },
     "metadata": {},
     "output_type": "display_data"
    },
    {
     "data": {
      "application/javascript": [
       "\n",
       "        if (window._pyforest_update_imports_cell) { window._pyforest_update_imports_cell('import pandas as pd\\nimport matplotlib.pyplot as plt'); }\n",
       "    "
      ],
      "text/plain": [
       "<IPython.core.display.Javascript object>"
      ]
     },
     "metadata": {},
     "output_type": "display_data"
    },
    {
     "data": {
      "application/javascript": [
       "\n",
       "        if (window._pyforest_update_imports_cell) { window._pyforest_update_imports_cell('import pandas as pd\\nimport matplotlib.pyplot as plt'); }\n",
       "    "
      ],
      "text/plain": [
       "<IPython.core.display.Javascript object>"
      ]
     },
     "metadata": {},
     "output_type": "display_data"
    },
    {
     "data": {
      "image/png": "[encoded data removed]",
      "text/plain": [
       "<Figure size 432x288 with 1 Axes>"
      ]
     },
     "metadata": {
      "needs_background": "light"
     },
     "output_type": "display_data"
    }
   ],
   "source": [
    "plt.plot(model_history.history['mean_squared_error'])\n",
    "plt.plot(model_history.history['val_mean_squared_error'])\n",
    "plt.title('Model MSE errors')\n",
    "plt.xlabel('epoch')\n",
    "plt.ylabel('MSE')\n",
    "plt.legend(['train','test'], loc='upper left')\n",
    "plt.show()"
   ]
  },
  {
   "cell_type": "code",
   "execution_count": 76,
   "metadata": {},
   "outputs": [
    {
     "data": {
      "application/javascript": [
       "\n",
       "        if (window._pyforest_update_imports_cell) { window._pyforest_update_imports_cell('import pandas as pd\\nimport matplotlib.pyplot as plt'); }\n",
       "    "
      ],
      "text/plain": [
       "<IPython.core.display.Javascript object>"
      ]
     },
     "metadata": {},
     "output_type": "display_data"
    },
    {
     "data": {
      "application/javascript": [
       "\n",
       "        if (window._pyforest_update_imports_cell) { window._pyforest_update_imports_cell('import pandas as pd\\nimport matplotlib.pyplot as plt'); }\n",
       "    "
      ],
      "text/plain": [
       "<IPython.core.display.Javascript object>"
      ]
     },
     "metadata": {},
     "output_type": "display_data"
    },
    {
     "data": {
      "application/javascript": [
       "\n",
       "        if (window._pyforest_update_imports_cell) { window._pyforest_update_imports_cell('import pandas as pd\\nimport matplotlib.pyplot as plt'); }\n",
       "    "
      ],
      "text/plain": [
       "<IPython.core.display.Javascript object>"
      ]
     },
     "metadata": {},
     "output_type": "display_data"
    },
    {
     "data": {
      "application/javascript": [
       "\n",
       "        if (window._pyforest_update_imports_cell) { window._pyforest_update_imports_cell('import pandas as pd\\nimport matplotlib.pyplot as plt'); }\n",
       "    "
      ],
      "text/plain": [
       "<IPython.core.display.Javascript object>"
      ]
     },
     "metadata": {},
     "output_type": "display_data"
    },
    {
     "data": {
      "application/javascript": [
       "\n",
       "        if (window._pyforest_update_imports_cell) { window._pyforest_update_imports_cell('import pandas as pd\\nimport matplotlib.pyplot as plt'); }\n",
       "    "
      ],
      "text/plain": [
       "<IPython.core.display.Javascript object>"
      ]
     },
     "metadata": {},
     "output_type": "display_data"
    },
    {
     "data": {
      "application/javascript": [
       "\n",
       "        if (window._pyforest_update_imports_cell) { window._pyforest_update_imports_cell('import pandas as pd\\nimport matplotlib.pyplot as plt'); }\n",
       "    "
      ],
      "text/plain": [
       "<IPython.core.display.Javascript object>"
      ]
     },
     "metadata": {},
     "output_type": "display_data"
    },
    {
     "data": {
      "application/javascript": [
       "\n",
       "        if (window._pyforest_update_imports_cell) { window._pyforest_update_imports_cell('import pandas as pd\\nimport matplotlib.pyplot as plt'); }\n",
       "    "
      ],
      "text/plain": [
       "<IPython.core.display.Javascript object>"
      ]
     },
     "metadata": {},
     "output_type": "display_data"
    },
    {
     "data": {
      "image/png": "[encoded data removed]",
      "text/plain": [
       "<Figure size 432x288 with 1 Axes>"
      ]
     },
     "metadata": {
      "needs_background": "light"
     },
     "output_type": "display_data"
    }
   ],
   "source": [
    "plt.plot(model_history.history['loss'])\n",
    "plt.plot(model_history.history['val_loss'])\n",
    "plt.title('Model Losses')\n",
    "plt.xlabel('epoch')\n",
    "plt.ylabel('Loss')\n",
    "plt.legend(['train','test'], loc='upper left')\n",
    "plt.show()"
   ]
  },
  {
   "cell_type": "code",
   "execution_count": 77,
   "metadata": {},
   "outputs": [
    {
     "name": "stdout",
     "output_type": "stream",
     "text": [
      "1/1 - 0s - loss: 0.0820 - mean_squared_error: 0.0820\n",
      "Test mse: 8.20\n",
      "Test Loss: 0.08\n"
     ]
    }
   ],
   "source": [
    "loss, mse = model.evaluate(X_test, y_test, verbose=2)\n",
    "print('Test mse: %.2f' % (mse*100))\n",
    "print('Test Loss: %.2f' % (loss))\n"
   ]
  },
  {
   "cell_type": "code",
   "execution_count": 78,
   "metadata": {},
   "outputs": [
    {
     "name": "stdout",
     "output_type": "stream",
     "text": [
      "(30, 1)\n"
     ]
    },
    {
     "data": {
      "text/plain": [
       "array([[0.91227114],\n",
       "       [0.        ],\n",
       "       [0.91080034],\n",
       "       [0.8614963 ],\n",
       "       [0.6180688 ],\n",
       "       [0.        ],\n",
       "       [0.77066314],\n",
       "       [0.8223058 ],\n",
       "       [1.3947144 ],\n",
       "       [0.0378077 ],\n",
       "       [0.6826693 ],\n",
       "       [1.0401928 ],\n",
       "       [0.        ],\n",
       "       [0.8408433 ],\n",
       "       [0.7440225 ],\n",
       "       [0.71671313],\n",
       "       [0.2654413 ],\n",
       "       [1.0630573 ],\n",
       "       [0.67765605],\n",
       "       [0.10733151],\n",
       "       [0.        ],\n",
       "       [0.02592134],\n",
       "       [0.        ],\n",
       "       [0.1654042 ],\n",
       "       [0.82798254],\n",
       "       [0.15183854],\n",
       "       [0.        ],\n",
       "       [0.9196271 ],\n",
       "       [0.7783359 ],\n",
       "       [1.1363672 ]], dtype=float32)"
      ]
     },
     "execution_count": 78,
     "metadata": {},
     "output_type": "execute_result"
    }
   ],
   "source": [
    "predictions = model.predict(X_test)\n",
    "print(predictions.shape)\n",
    "predictions"
   ]
  },
  {
   "cell_type": "code",
   "execution_count": 79,
   "metadata": {},
   "outputs": [
    {
     "name": "stdout",
     "output_type": "stream",
     "text": [
      "0.5472373911341185 0.08198198945103413\n"
     ]
    }
   ],
   "source": [
    "from sklearn.metrics import mean_squared_error , r2_score , accuracy_score\n",
    "acc = r2_score(predictions , y_test)\n",
    "mse = mean_squared_error(predictions , y_test)\n",
    "\n",
    "print(acc, mse)"
   ]
  },
  {
   "cell_type": "markdown",
   "metadata": {},
   "source": [
    "# Keras-tunner hyperparameters tunning"
   ]
  },
  {
   "cell_type": "code",
   "execution_count": 8,
   "metadata": {},
   "outputs": [],
   "source": [
    "def build_model(hp):\n",
    "    model = keras.Sequential()\n",
    "    for i in range(hp.Int('num_layers', 2, 20)):\n",
    "        model.add(layers.Dense(units=hp.Int('units_' + str(i),\n",
    "                                            min_value=10,\n",
    "                                            max_value=500,\n",
    "                                            step=5),\n",
    "                               activation='elu'))\n",
    "    model.add(layers.Dense(1, activation='linear'))\n",
    "    model.compile(\n",
    "        optimizer=keras.optimizers.Adam(\n",
    "            hp.Choice('learning_rate', [1e-2, 1e-3, 1e-4])),\n",
    "        loss='mean_absolute_error',\n",
    "        metrics=['mean_absolute_error'])\n",
    "    return model"
   ]
  },
  {
   "cell_type": "code",
   "execution_count": 9,
   "metadata": {},
   "outputs": [],
   "source": [
    "tuner = RandomSearch(\n",
    "    build_model,\n",
    "    objective='val_mean_absolute_error',\n",
    "    max_trials=5,\n",
    "    executions_per_trial=3,\n",
    "    directory='ANN_project', #To store all the weights\n",
    "    project_name='Car_Selling_price')"
   ]
  },
  {
   "cell_type": "code",
   "execution_count": 10,
   "metadata": {},
   "outputs": [
    {
     "name": "stdout",
     "output_type": "stream",
     "text": [
      "Search space summary\n",
      "Default search space size: 4\n",
      "num_layers (Int)\n",
      "{'default': None, 'conditions': [], 'min_value': 2, 'max_value': 20, 'step': 1, 'sampling': None}\n",
      "units_0 (Int)\n",
      "{'default': None, 'conditions': [], 'min_value': 10, 'max_value': 500, 'step': 5, 'sampling': None}\n",
      "units_1 (Int)\n",
      "{'default': None, 'conditions': [], 'min_value': 10, 'max_value': 500, 'step': 5, 'sampling': None}\n",
      "learning_rate (Choice)\n",
      "{'default': 0.01, 'conditions': [], 'values': [0.01, 0.001, 0.0001], 'ordered': True}\n"
     ]
    }
   ],
   "source": [
    "tuner.search_space_summary()"
   ]
  },
  {
   "cell_type": "code",
   "execution_count": 11,
   "metadata": {},
   "outputs": [
    {
     "data": {
      "application/javascript": [
       "if (!(\"Notification\" in window)) {\n",
       "    alert(\"This browser does not support desktop notifications, so the %%notify magic will not work.\");\n",
       "} else if (Notification.permission !== 'granted' && Notification.permission !== 'denied') {\n",
       "    Notification.requestPermission(function (permission) {\n",
       "        if(!('permission' in Notification)) {\n",
       "            Notification.permission = permission;\n",
       "        }\n",
       "    })\n",
       "}\n"
      ],
      "text/plain": [
       "<IPython.core.display.Javascript object>"
      ]
     },
     "metadata": {},
     "output_type": "display_data"
    }
   ],
   "source": [
    "%load_ext jupyternotify"
   ]
  },
  {
   "cell_type": "code",
   "execution_count": 12,
   "metadata": {
    "scrolled": true
   },
   "outputs": [
    {
     "name": "stdout",
     "output_type": "stream",
     "text": [
      "Trial 5 Complete [00h 00m 33s]\n",
      "val_mean_absolute_error: 0.16187251607577005\n",
      "\n",
      "Best val_mean_absolute_error So Far: 0.16187251607577005\n",
      "Total elapsed time: 00h 02m 04s\n",
      "INFO:tensorflow:Oracle triggered exit\n"
     ]
    },
    {
     "data": {
      "application/javascript": [
       "$(document).ready(\n",
       "    function() {\n",
       "        function appendUniqueDiv(){\n",
       "            // append a div with our uuid so we can check that it's already\n",
       "            // been sent and avoid duplicates on page reload\n",
       "            var notifiedDiv = document.createElement(\"div\")\n",
       "            notifiedDiv.id = \"5f38d095-2e8c-4d80-ba74-8ee050dd26f8\"\n",
       "            element.append(notifiedDiv)\n",
       "        }\n",
       "\n",
       "        // only send notifications if the pageload is complete; this will\n",
       "        // help stop extra notifications when a saved notebook is loaded,\n",
       "        // which during testing gives us state \"interactive\", not \"complete\"\n",
       "        if (document.readyState === 'complete') {\n",
       "            // check for the div that signifies that the notification\n",
       "            // was already sent\n",
       "            if (document.getElementById(\"5f38d095-2e8c-4d80-ba74-8ee050dd26f8\") === null) {\n",
       "                var notificationPayload = {\"requireInteraction\": false, \"icon\": \"/static/base/images/favicon.ico\", \"body\": \"Cell execution has finished!\"};\n",
       "                if (Notification.permission !== 'denied') {\n",
       "                    if (Notification.permission !== 'granted') { \n",
       "                        Notification.requestPermission(function (permission) {\n",
       "                            if(!('permission' in Notification)) {\n",
       "                                Notification.permission = permission\n",
       "                            }\n",
       "                        })\n",
       "                    }\n",
       "                    if (Notification.permission === 'granted') {\n",
       "                    var notification = new Notification(\"Jupyter Notebook\", notificationPayload)\n",
       "                    appendUniqueDiv()\n",
       "                    notification.onclick = function () {\n",
       "                        window.focus();\n",
       "                        this.close();\n",
       "                        };\n",
       "                    } \n",
       "                }     \n",
       "            }\n",
       "        }\n",
       "    }\n",
       ")\n"
      ],
      "text/plain": [
       "<IPython.core.display.Javascript object>"
      ]
     },
     "metadata": {},
     "output_type": "display_data"
    }
   ],
   "source": [
    "%%notify\n",
    "tuner.search(X_train, y_train,\n",
    "             epochs=20, \n",
    "             validation_data=(X_test, y_test))"
   ]
  },
  {
   "cell_type": "code",
   "execution_count": 15,
   "metadata": {
    "scrolled": true
   },
   "outputs": [
    {
     "name": "stdout",
     "output_type": "stream",
     "text": [
      "Results summary\n",
      "Results in ANN_project\\Car_Selling_price\n",
      "Showing 3 best trials\n",
      "Objective(name='val_mean_absolute_error', direction='min')\n",
      "Trial summary\n",
      "Hyperparameters:\n",
      "num_layers: 17\n",
      "units_0: 90\n",
      "units_1: 425\n",
      "learning_rate: 0.0001\n",
      "units_2: 255\n",
      "units_3: 180\n",
      "units_4: 325\n",
      "units_5: 460\n",
      "units_6: 220\n",
      "units_7: 305\n",
      "units_8: 320\n",
      "units_9: 120\n",
      "units_10: 120\n",
      "units_11: 245\n",
      "units_12: 485\n",
      "units_13: 490\n",
      "units_14: 285\n",
      "units_15: 395\n",
      "units_16: 425\n",
      "units_17: 400\n",
      "units_18: 490\n",
      "Score: 0.16187251607577005\n",
      "Trial summary\n",
      "Hyperparameters:\n",
      "num_layers: 13\n",
      "units_0: 395\n",
      "units_1: 190\n",
      "learning_rate: 0.0001\n",
      "units_2: 475\n",
      "units_3: 400\n",
      "units_4: 430\n",
      "units_5: 105\n",
      "units_6: 395\n",
      "units_7: 435\n",
      "units_8: 220\n",
      "units_9: 10\n",
      "units_10: 10\n",
      "units_11: 10\n",
      "units_12: 10\n",
      "Score: 0.17091753085454306\n",
      "Trial summary\n",
      "Hyperparameters:\n",
      "num_layers: 9\n",
      "units_0: 390\n",
      "units_1: 230\n",
      "learning_rate: 0.0001\n",
      "units_2: 260\n",
      "units_3: 10\n",
      "units_4: 10\n",
      "units_5: 10\n",
      "units_6: 10\n",
      "units_7: 10\n",
      "units_8: 10\n",
      "Score: 0.19765145579973856\n"
     ]
    }
   ],
   "source": [
    "tuner.results_summary(num_trials = 3)"
   ]
  },
  {
   "cell_type": "code",
   "execution_count": 25,
   "metadata": {},
   "outputs": [
    {
     "name": "stdout",
     "output_type": "stream",
     "text": [
      "\n",
      "The hyperparameter search is complete. The optimal number of units in the first densely-connected\n",
      "layer is 90 and the optimal learning rate for the optimizer\n",
      "is 0.0001 and the number of layers are 17\n",
      "\n"
     ]
    }
   ],
   "source": [
    "best_hps = tuner.get_best_hyperparameters(num_trials = 1)[0]\n",
    "best_hps\n",
    "print(f\"\"\"\n",
    "The hyperparameter search is complete. The optimal number of units in the first densely-connected\n",
    "layer is {best_hps.get('units_0')} and the optimal learning rate for the optimizer\n",
    "is {best_hps.get('learning_rate') } and the number of layers are {best_hps.get('num_layers')}\n",
    "\"\"\")"
   ]
  },
  {
   "cell_type": "code",
   "execution_count": 26,
   "metadata": {
    "scrolled": true
   },
   "outputs": [
    {
     "name": "stdout",
     "output_type": "stream",
     "text": [
      "Epoch 1/150\n",
      "8/8 - 2s - loss: 0.6002 - mean_absolute_error: 0.6002 - val_loss: 0.5279 - val_mean_absolute_error: 0.5279\n",
      "Epoch 2/150\n",
      "8/8 - 0s - loss: 0.4326 - mean_absolute_error: 0.4326 - val_loss: 0.4183 - val_mean_absolute_error: 0.4183\n",
      "Epoch 3/150\n",
      "8/8 - 0s - loss: 0.3756 - mean_absolute_error: 0.3756 - val_loss: 0.3959 - val_mean_absolute_error: 0.3959\n",
      "Epoch 4/150\n",
      "8/8 - 0s - loss: 0.3359 - mean_absolute_error: 0.3359 - val_loss: 0.3759 - val_mean_absolute_error: 0.3759\n",
      "Epoch 5/150\n",
      "8/8 - 0s - loss: 0.2788 - mean_absolute_error: 0.2788 - val_loss: 0.2680 - val_mean_absolute_error: 0.2680\n",
      "Epoch 6/150\n",
      "8/8 - 0s - loss: 0.2663 - mean_absolute_error: 0.2663 - val_loss: 0.3058 - val_mean_absolute_error: 0.3058\n",
      "Epoch 7/150\n",
      "8/8 - 0s - loss: 0.2477 - mean_absolute_error: 0.2477 - val_loss: 0.2941 - val_mean_absolute_error: 0.2941\n",
      "Epoch 8/150\n",
      "8/8 - 0s - loss: 0.2158 - mean_absolute_error: 0.2158 - val_loss: 0.2427 - val_mean_absolute_error: 0.2427\n",
      "Epoch 9/150\n",
      "8/8 - 0s - loss: 0.2137 - mean_absolute_error: 0.2137 - val_loss: 0.2924 - val_mean_absolute_error: 0.2924\n",
      "Epoch 10/150\n",
      "8/8 - 0s - loss: 0.2127 - mean_absolute_error: 0.2127 - val_loss: 0.2357 - val_mean_absolute_error: 0.2357\n",
      "Epoch 11/150\n",
      "8/8 - 0s - loss: 0.1928 - mean_absolute_error: 0.1928 - val_loss: 0.2102 - val_mean_absolute_error: 0.2102\n",
      "Epoch 12/150\n",
      "8/8 - 0s - loss: 0.2021 - mean_absolute_error: 0.2021 - val_loss: 0.2486 - val_mean_absolute_error: 0.2486\n",
      "Epoch 13/150\n",
      "8/8 - 0s - loss: 0.2393 - mean_absolute_error: 0.2393 - val_loss: 0.2645 - val_mean_absolute_error: 0.2645\n",
      "Epoch 14/150\n",
      "8/8 - 0s - loss: 0.2243 - mean_absolute_error: 0.2243 - val_loss: 0.2886 - val_mean_absolute_error: 0.2886\n",
      "Epoch 15/150\n",
      "8/8 - 0s - loss: 0.2147 - mean_absolute_error: 0.2147 - val_loss: 0.2034 - val_mean_absolute_error: 0.2034\n",
      "Epoch 16/150\n",
      "8/8 - 0s - loss: 0.1988 - mean_absolute_error: 0.1988 - val_loss: 0.2803 - val_mean_absolute_error: 0.2803\n",
      "Epoch 17/150\n",
      "8/8 - 0s - loss: 0.2017 - mean_absolute_error: 0.2017 - val_loss: 0.2214 - val_mean_absolute_error: 0.2214\n",
      "Epoch 18/150\n",
      "8/8 - 0s - loss: 0.2160 - mean_absolute_error: 0.2160 - val_loss: 0.2011 - val_mean_absolute_error: 0.2011\n",
      "Epoch 19/150\n",
      "8/8 - 0s - loss: 0.2053 - mean_absolute_error: 0.2053 - val_loss: 0.2128 - val_mean_absolute_error: 0.2128\n",
      "Epoch 20/150\n",
      "8/8 - 0s - loss: 0.2029 - mean_absolute_error: 0.2029 - val_loss: 0.2810 - val_mean_absolute_error: 0.2810\n",
      "Epoch 21/150\n",
      "8/8 - 0s - loss: 0.2117 - mean_absolute_error: 0.2117 - val_loss: 0.3130 - val_mean_absolute_error: 0.3130\n",
      "Epoch 22/150\n",
      "8/8 - 0s - loss: 0.2049 - mean_absolute_error: 0.2049 - val_loss: 0.1831 - val_mean_absolute_error: 0.1831\n",
      "Epoch 23/150\n",
      "8/8 - 0s - loss: 0.2154 - mean_absolute_error: 0.2154 - val_loss: 0.2243 - val_mean_absolute_error: 0.2243\n",
      "Epoch 24/150\n",
      "8/8 - 0s - loss: 0.1920 - mean_absolute_error: 0.1920 - val_loss: 0.2582 - val_mean_absolute_error: 0.2582\n",
      "Epoch 25/150\n",
      "8/8 - 0s - loss: 0.1798 - mean_absolute_error: 0.1798 - val_loss: 0.1563 - val_mean_absolute_error: 0.1563\n",
      "Epoch 26/150\n",
      "8/8 - 0s - loss: 0.1909 - mean_absolute_error: 0.1909 - val_loss: 0.1646 - val_mean_absolute_error: 0.1646\n",
      "Epoch 27/150\n",
      "8/8 - 0s - loss: 0.1679 - mean_absolute_error: 0.1679 - val_loss: 0.2790 - val_mean_absolute_error: 0.2790\n",
      "Epoch 28/150\n",
      "8/8 - 0s - loss: 0.1640 - mean_absolute_error: 0.1640 - val_loss: 0.1657 - val_mean_absolute_error: 0.1657\n",
      "Epoch 29/150\n",
      "8/8 - 0s - loss: 0.1773 - mean_absolute_error: 0.1773 - val_loss: 0.1947 - val_mean_absolute_error: 0.1947\n",
      "Epoch 30/150\n",
      "8/8 - 0s - loss: 0.1998 - mean_absolute_error: 0.1998 - val_loss: 0.3026 - val_mean_absolute_error: 0.3026\n",
      "Epoch 31/150\n",
      "8/8 - 0s - loss: 0.1861 - mean_absolute_error: 0.1861 - val_loss: 0.1600 - val_mean_absolute_error: 0.1600\n",
      "Epoch 32/150\n",
      "8/8 - 0s - loss: 0.1608 - mean_absolute_error: 0.1608 - val_loss: 0.2927 - val_mean_absolute_error: 0.2927\n",
      "Epoch 33/150\n",
      "8/8 - 0s - loss: 0.1720 - mean_absolute_error: 0.1720 - val_loss: 0.2090 - val_mean_absolute_error: 0.2090\n",
      "Epoch 34/150\n",
      "8/8 - 0s - loss: 0.1920 - mean_absolute_error: 0.1920 - val_loss: 0.2884 - val_mean_absolute_error: 0.2884\n",
      "Epoch 35/150\n",
      "8/8 - 0s - loss: 0.1710 - mean_absolute_error: 0.1710 - val_loss: 0.1747 - val_mean_absolute_error: 0.1747\n",
      "Epoch 36/150\n",
      "8/8 - 0s - loss: 0.1576 - mean_absolute_error: 0.1576 - val_loss: 0.2090 - val_mean_absolute_error: 0.2090\n",
      "Epoch 37/150\n",
      "8/8 - 0s - loss: 0.1675 - mean_absolute_error: 0.1675 - val_loss: 0.1843 - val_mean_absolute_error: 0.1843\n",
      "Epoch 38/150\n",
      "8/8 - 0s - loss: 0.1588 - mean_absolute_error: 0.1588 - val_loss: 0.1472 - val_mean_absolute_error: 0.1472\n",
      "Epoch 39/150\n",
      "8/8 - 0s - loss: 0.1555 - mean_absolute_error: 0.1555 - val_loss: 0.2960 - val_mean_absolute_error: 0.2960\n",
      "Epoch 40/150\n",
      "8/8 - 0s - loss: 0.1798 - mean_absolute_error: 0.1798 - val_loss: 0.2170 - val_mean_absolute_error: 0.2170\n",
      "Epoch 41/150\n",
      "8/8 - 1s - loss: 0.1651 - mean_absolute_error: 0.1651 - val_loss: 0.2466 - val_mean_absolute_error: 0.2466\n",
      "Epoch 42/150\n",
      "8/8 - 0s - loss: 0.1544 - mean_absolute_error: 0.1544 - val_loss: 0.1433 - val_mean_absolute_error: 0.1433\n",
      "Epoch 43/150\n",
      "8/8 - 0s - loss: 0.1392 - mean_absolute_error: 0.1392 - val_loss: 0.1797 - val_mean_absolute_error: 0.1797\n",
      "Epoch 44/150\n",
      "8/8 - 0s - loss: 0.1341 - mean_absolute_error: 0.1341 - val_loss: 0.1754 - val_mean_absolute_error: 0.1754\n",
      "Epoch 45/150\n",
      "8/8 - 0s - loss: 0.1511 - mean_absolute_error: 0.1511 - val_loss: 0.1490 - val_mean_absolute_error: 0.1490\n",
      "Epoch 46/150\n",
      "8/8 - 0s - loss: 0.1771 - mean_absolute_error: 0.1771 - val_loss: 0.1965 - val_mean_absolute_error: 0.1965\n",
      "Epoch 47/150\n",
      "8/8 - 0s - loss: 0.1527 - mean_absolute_error: 0.1527 - val_loss: 0.1536 - val_mean_absolute_error: 0.1536\n",
      "Epoch 48/150\n",
      "8/8 - 0s - loss: 0.1570 - mean_absolute_error: 0.1570 - val_loss: 0.2417 - val_mean_absolute_error: 0.2417\n",
      "Epoch 49/150\n",
      "8/8 - 0s - loss: 0.1547 - mean_absolute_error: 0.1547 - val_loss: 0.2635 - val_mean_absolute_error: 0.2635\n",
      "Epoch 50/150\n",
      "8/8 - 0s - loss: 0.1719 - mean_absolute_error: 0.1719 - val_loss: 0.1524 - val_mean_absolute_error: 0.1524\n",
      "Epoch 51/150\n",
      "8/8 - 0s - loss: 0.1754 - mean_absolute_error: 0.1754 - val_loss: 0.1669 - val_mean_absolute_error: 0.1669\n",
      "Epoch 52/150\n",
      "8/8 - 0s - loss: 0.1965 - mean_absolute_error: 0.1965 - val_loss: 0.2063 - val_mean_absolute_error: 0.2063\n",
      "Epoch 53/150\n",
      "8/8 - 0s - loss: 0.1787 - mean_absolute_error: 0.1787 - val_loss: 0.1571 - val_mean_absolute_error: 0.1571\n",
      "Epoch 54/150\n",
      "8/8 - 0s - loss: 0.1374 - mean_absolute_error: 0.1374 - val_loss: 0.2002 - val_mean_absolute_error: 0.2002\n",
      "Epoch 55/150\n",
      "8/8 - 0s - loss: 0.1364 - mean_absolute_error: 0.1364 - val_loss: 0.1973 - val_mean_absolute_error: 0.1973\n",
      "Epoch 56/150\n",
      "8/8 - 0s - loss: 0.1462 - mean_absolute_error: 0.1462 - val_loss: 0.1702 - val_mean_absolute_error: 0.1702\n",
      "Epoch 57/150\n",
      "8/8 - 0s - loss: 0.1536 - mean_absolute_error: 0.1536 - val_loss: 0.2764 - val_mean_absolute_error: 0.2764\n",
      "Epoch 58/150\n",
      "8/8 - 0s - loss: 0.1673 - mean_absolute_error: 0.1673 - val_loss: 0.1423 - val_mean_absolute_error: 0.1423\n",
      "Epoch 59/150\n",
      "8/8 - 0s - loss: 0.1726 - mean_absolute_error: 0.1726 - val_loss: 0.1740 - val_mean_absolute_error: 0.1740\n",
      "Epoch 60/150\n",
      "8/8 - 0s - loss: 0.1669 - mean_absolute_error: 0.1669 - val_loss: 0.1719 - val_mean_absolute_error: 0.1719\n",
      "Epoch 61/150\n",
      "8/8 - 0s - loss: 0.1391 - mean_absolute_error: 0.1391 - val_loss: 0.2749 - val_mean_absolute_error: 0.2749\n",
      "Epoch 62/150\n",
      "8/8 - 0s - loss: 0.1503 - mean_absolute_error: 0.1503 - val_loss: 0.1744 - val_mean_absolute_error: 0.1744\n",
      "Epoch 63/150\n",
      "8/8 - 0s - loss: 0.1361 - mean_absolute_error: 0.1361 - val_loss: 0.1698 - val_mean_absolute_error: 0.1698\n",
      "Epoch 64/150\n",
      "8/8 - 0s - loss: 0.1195 - mean_absolute_error: 0.1195 - val_loss: 0.1819 - val_mean_absolute_error: 0.1819\n",
      "Epoch 65/150\n",
      "8/8 - 0s - loss: 0.1184 - mean_absolute_error: 0.1184 - val_loss: 0.2127 - val_mean_absolute_error: 0.2127\n",
      "Epoch 66/150\n",
      "8/8 - 0s - loss: 0.1130 - mean_absolute_error: 0.1130 - val_loss: 0.1961 - val_mean_absolute_error: 0.1961\n",
      "Epoch 67/150\n",
      "8/8 - 0s - loss: 0.1193 - mean_absolute_error: 0.1193 - val_loss: 0.1497 - val_mean_absolute_error: 0.1497\n",
      "Epoch 68/150\n",
      "8/8 - 0s - loss: 0.1319 - mean_absolute_error: 0.1319 - val_loss: 0.2553 - val_mean_absolute_error: 0.2553\n",
      "Epoch 69/150\n",
      "8/8 - 0s - loss: 0.1293 - mean_absolute_error: 0.1293 - val_loss: 0.1641 - val_mean_absolute_error: 0.1641\n"
     ]
    },
    {
     "name": "stdout",
     "output_type": "stream",
     "text": [
      "Epoch 70/150\n",
      "8/8 - 0s - loss: 0.1293 - mean_absolute_error: 0.1293 - val_loss: 0.2093 - val_mean_absolute_error: 0.2093\n",
      "Epoch 71/150\n",
      "8/8 - 0s - loss: 0.1494 - mean_absolute_error: 0.1494 - val_loss: 0.1789 - val_mean_absolute_error: 0.1789\n",
      "Epoch 72/150\n",
      "8/8 - 0s - loss: 0.1332 - mean_absolute_error: 0.1332 - val_loss: 0.1593 - val_mean_absolute_error: 0.1593\n",
      "Epoch 73/150\n",
      "8/8 - 0s - loss: 0.1476 - mean_absolute_error: 0.1476 - val_loss: 0.1931 - val_mean_absolute_error: 0.1931\n",
      "Epoch 74/150\n",
      "8/8 - 0s - loss: 0.1617 - mean_absolute_error: 0.1617 - val_loss: 0.1240 - val_mean_absolute_error: 0.1240\n",
      "Epoch 75/150\n",
      "8/8 - 0s - loss: 0.1114 - mean_absolute_error: 0.1114 - val_loss: 0.1940 - val_mean_absolute_error: 0.1940\n",
      "Epoch 76/150\n",
      "8/8 - 0s - loss: 0.1194 - mean_absolute_error: 0.1194 - val_loss: 0.1008 - val_mean_absolute_error: 0.1008\n",
      "Epoch 77/150\n",
      "8/8 - 0s - loss: 0.1160 - mean_absolute_error: 0.1160 - val_loss: 0.1437 - val_mean_absolute_error: 0.1437\n",
      "Epoch 78/150\n",
      "8/8 - 0s - loss: 0.1097 - mean_absolute_error: 0.1097 - val_loss: 0.1017 - val_mean_absolute_error: 0.1017\n",
      "Epoch 79/150\n",
      "8/8 - 0s - loss: 0.1016 - mean_absolute_error: 0.1016 - val_loss: 0.1867 - val_mean_absolute_error: 0.1867\n",
      "Epoch 80/150\n",
      "8/8 - 0s - loss: 0.1126 - mean_absolute_error: 0.1126 - val_loss: 0.1191 - val_mean_absolute_error: 0.1191\n",
      "Epoch 81/150\n",
      "8/8 - 0s - loss: 0.1027 - mean_absolute_error: 0.1027 - val_loss: 0.2481 - val_mean_absolute_error: 0.2481\n",
      "Epoch 82/150\n",
      "8/8 - 0s - loss: 0.1157 - mean_absolute_error: 0.1157 - val_loss: 0.1152 - val_mean_absolute_error: 0.1152\n",
      "Epoch 83/150\n",
      "8/8 - 0s - loss: 0.1083 - mean_absolute_error: 0.1083 - val_loss: 0.1553 - val_mean_absolute_error: 0.1553\n",
      "Epoch 84/150\n",
      "8/8 - 0s - loss: 0.1355 - mean_absolute_error: 0.1355 - val_loss: 0.2216 - val_mean_absolute_error: 0.2216\n",
      "Epoch 85/150\n",
      "8/8 - 0s - loss: 0.1230 - mean_absolute_error: 0.1230 - val_loss: 0.1442 - val_mean_absolute_error: 0.1442\n",
      "Epoch 86/150\n",
      "8/8 - 0s - loss: 0.1127 - mean_absolute_error: 0.1127 - val_loss: 0.2125 - val_mean_absolute_error: 0.2125\n",
      "Epoch 87/150\n",
      "8/8 - 0s - loss: 0.1003 - mean_absolute_error: 0.1003 - val_loss: 0.1307 - val_mean_absolute_error: 0.1307\n",
      "Epoch 88/150\n",
      "8/8 - 0s - loss: 0.1017 - mean_absolute_error: 0.1017 - val_loss: 0.1187 - val_mean_absolute_error: 0.1187\n",
      "Epoch 89/150\n",
      "8/8 - 0s - loss: 0.1222 - mean_absolute_error: 0.1222 - val_loss: 0.1232 - val_mean_absolute_error: 0.1232\n",
      "Epoch 90/150\n",
      "8/8 - 0s - loss: 0.1240 - mean_absolute_error: 0.1240 - val_loss: 0.2149 - val_mean_absolute_error: 0.2149\n",
      "Epoch 91/150\n",
      "8/8 - 0s - loss: 0.1657 - mean_absolute_error: 0.1657 - val_loss: 0.1443 - val_mean_absolute_error: 0.1443\n",
      "Epoch 92/150\n",
      "8/8 - 0s - loss: 0.1365 - mean_absolute_error: 0.1365 - val_loss: 0.1888 - val_mean_absolute_error: 0.1888\n",
      "Epoch 93/150\n",
      "8/8 - 0s - loss: 0.1167 - mean_absolute_error: 0.1167 - val_loss: 0.1532 - val_mean_absolute_error: 0.1532\n",
      "Epoch 94/150\n",
      "8/8 - 0s - loss: 0.0961 - mean_absolute_error: 0.0961 - val_loss: 0.1097 - val_mean_absolute_error: 0.1097\n",
      "Epoch 95/150\n",
      "8/8 - 0s - loss: 0.1068 - mean_absolute_error: 0.1068 - val_loss: 0.1488 - val_mean_absolute_error: 0.1488\n",
      "Epoch 96/150\n",
      "8/8 - 0s - loss: 0.1019 - mean_absolute_error: 0.1019 - val_loss: 0.1366 - val_mean_absolute_error: 0.1366\n",
      "Epoch 97/150\n",
      "8/8 - 0s - loss: 0.0973 - mean_absolute_error: 0.0973 - val_loss: 0.1743 - val_mean_absolute_error: 0.1743\n",
      "Epoch 98/150\n",
      "8/8 - 0s - loss: 0.1432 - mean_absolute_error: 0.1432 - val_loss: 0.1100 - val_mean_absolute_error: 0.1100\n",
      "Epoch 99/150\n",
      "8/8 - 0s - loss: 0.1154 - mean_absolute_error: 0.1154 - val_loss: 0.1237 - val_mean_absolute_error: 0.1237\n",
      "Epoch 100/150\n",
      "8/8 - 0s - loss: 0.1049 - mean_absolute_error: 0.1049 - val_loss: 0.1236 - val_mean_absolute_error: 0.1236\n",
      "Epoch 101/150\n",
      "8/8 - 0s - loss: 0.1036 - mean_absolute_error: 0.1036 - val_loss: 0.1609 - val_mean_absolute_error: 0.1609\n",
      "Epoch 102/150\n",
      "8/8 - 0s - loss: 0.1193 - mean_absolute_error: 0.1193 - val_loss: 0.1078 - val_mean_absolute_error: 0.1078\n",
      "Epoch 103/150\n",
      "8/8 - 0s - loss: 0.0996 - mean_absolute_error: 0.0996 - val_loss: 0.1637 - val_mean_absolute_error: 0.1637\n",
      "Epoch 104/150\n",
      "8/8 - 0s - loss: 0.1308 - mean_absolute_error: 0.1308 - val_loss: 0.1418 - val_mean_absolute_error: 0.1418\n",
      "Epoch 105/150\n",
      "8/8 - 0s - loss: 0.1132 - mean_absolute_error: 0.1132 - val_loss: 0.1536 - val_mean_absolute_error: 0.1536\n",
      "Epoch 106/150\n",
      "8/8 - 0s - loss: 0.1139 - mean_absolute_error: 0.1139 - val_loss: 0.1352 - val_mean_absolute_error: 0.1352\n",
      "Epoch 107/150\n",
      "8/8 - 0s - loss: 0.0973 - mean_absolute_error: 0.0973 - val_loss: 0.1439 - val_mean_absolute_error: 0.1439\n",
      "Epoch 108/150\n",
      "8/8 - 0s - loss: 0.0884 - mean_absolute_error: 0.0884 - val_loss: 0.0999 - val_mean_absolute_error: 0.0999\n",
      "Epoch 109/150\n",
      "8/8 - 0s - loss: 0.0874 - mean_absolute_error: 0.0874 - val_loss: 0.1231 - val_mean_absolute_error: 0.1231\n",
      "Epoch 110/150\n",
      "8/8 - 0s - loss: 0.1112 - mean_absolute_error: 0.1112 - val_loss: 0.1738 - val_mean_absolute_error: 0.1738\n",
      "Epoch 111/150\n",
      "8/8 - 0s - loss: 0.1023 - mean_absolute_error: 0.1023 - val_loss: 0.1401 - val_mean_absolute_error: 0.1401\n",
      "Epoch 112/150\n",
      "8/8 - 0s - loss: 0.1073 - mean_absolute_error: 0.1073 - val_loss: 0.2160 - val_mean_absolute_error: 0.2160\n",
      "Epoch 113/150\n",
      "8/8 - 0s - loss: 0.1169 - mean_absolute_error: 0.1169 - val_loss: 0.1143 - val_mean_absolute_error: 0.1143\n",
      "Epoch 114/150\n",
      "8/8 - 0s - loss: 0.0906 - mean_absolute_error: 0.0906 - val_loss: 0.1769 - val_mean_absolute_error: 0.1769\n",
      "Epoch 115/150\n",
      "8/8 - 0s - loss: 0.0879 - mean_absolute_error: 0.0879 - val_loss: 0.1320 - val_mean_absolute_error: 0.1320\n",
      "Epoch 116/150\n",
      "8/8 - 0s - loss: 0.0940 - mean_absolute_error: 0.0940 - val_loss: 0.1320 - val_mean_absolute_error: 0.1320\n",
      "Epoch 117/150\n",
      "8/8 - 0s - loss: 0.0859 - mean_absolute_error: 0.0859 - val_loss: 0.1132 - val_mean_absolute_error: 0.1132\n",
      "Epoch 118/150\n",
      "8/8 - 0s - loss: 0.0824 - mean_absolute_error: 0.0824 - val_loss: 0.0941 - val_mean_absolute_error: 0.0941\n",
      "Epoch 119/150\n",
      "8/8 - 0s - loss: 0.0851 - mean_absolute_error: 0.0851 - val_loss: 0.1086 - val_mean_absolute_error: 0.1086\n",
      "Epoch 120/150\n",
      "8/8 - 0s - loss: 0.0954 - mean_absolute_error: 0.0954 - val_loss: 0.1358 - val_mean_absolute_error: 0.1358\n",
      "Epoch 121/150\n",
      "8/8 - 0s - loss: 0.0850 - mean_absolute_error: 0.0850 - val_loss: 0.1367 - val_mean_absolute_error: 0.1367\n",
      "Epoch 122/150\n",
      "8/8 - 0s - loss: 0.0862 - mean_absolute_error: 0.0862 - val_loss: 0.1552 - val_mean_absolute_error: 0.1552\n",
      "Epoch 123/150\n",
      "8/8 - 0s - loss: 0.1124 - mean_absolute_error: 0.1124 - val_loss: 0.2778 - val_mean_absolute_error: 0.2778\n",
      "Epoch 124/150\n",
      "8/8 - 0s - loss: 0.1081 - mean_absolute_error: 0.1081 - val_loss: 0.0967 - val_mean_absolute_error: 0.0967\n",
      "Epoch 125/150\n",
      "8/8 - 0s - loss: 0.1196 - mean_absolute_error: 0.1196 - val_loss: 0.1474 - val_mean_absolute_error: 0.1474\n",
      "Epoch 126/150\n",
      "8/8 - 0s - loss: 0.0801 - mean_absolute_error: 0.0801 - val_loss: 0.1227 - val_mean_absolute_error: 0.1227\n",
      "Epoch 127/150\n",
      "8/8 - 0s - loss: 0.0880 - mean_absolute_error: 0.0880 - val_loss: 0.0886 - val_mean_absolute_error: 0.0886\n",
      "Epoch 128/150\n",
      "8/8 - 0s - loss: 0.0702 - mean_absolute_error: 0.0702 - val_loss: 0.1160 - val_mean_absolute_error: 0.1160\n",
      "Epoch 129/150\n",
      "8/8 - 0s - loss: 0.0752 - mean_absolute_error: 0.0752 - val_loss: 0.2058 - val_mean_absolute_error: 0.2058\n",
      "Epoch 130/150\n",
      "8/8 - 0s - loss: 0.0796 - mean_absolute_error: 0.0796 - val_loss: 0.1556 - val_mean_absolute_error: 0.1556\n",
      "Epoch 131/150\n",
      "8/8 - 0s - loss: 0.1031 - mean_absolute_error: 0.1031 - val_loss: 0.1901 - val_mean_absolute_error: 0.1901\n",
      "Epoch 132/150\n",
      "8/8 - 0s - loss: 0.1151 - mean_absolute_error: 0.1151 - val_loss: 0.2294 - val_mean_absolute_error: 0.2294\n",
      "Epoch 133/150\n",
      "8/8 - 0s - loss: 0.1055 - mean_absolute_error: 0.1055 - val_loss: 0.1012 - val_mean_absolute_error: 0.1012\n",
      "Epoch 134/150\n",
      "8/8 - 0s - loss: 0.0856 - mean_absolute_error: 0.0856 - val_loss: 0.1577 - val_mean_absolute_error: 0.1577\n",
      "Epoch 135/150\n",
      "8/8 - 0s - loss: 0.0770 - mean_absolute_error: 0.0770 - val_loss: 0.1553 - val_mean_absolute_error: 0.1553\n",
      "Epoch 136/150\n",
      "8/8 - 0s - loss: 0.1001 - mean_absolute_error: 0.1001 - val_loss: 0.1187 - val_mean_absolute_error: 0.1187\n",
      "Epoch 137/150\n",
      "8/8 - 0s - loss: 0.1011 - mean_absolute_error: 0.1011 - val_loss: 0.1439 - val_mean_absolute_error: 0.1439\n"
     ]
    },
    {
     "name": "stdout",
     "output_type": "stream",
     "text": [
      "Epoch 138/150\n",
      "8/8 - 0s - loss: 0.0971 - mean_absolute_error: 0.0971 - val_loss: 0.2086 - val_mean_absolute_error: 0.2086\n",
      "Epoch 139/150\n",
      "8/8 - 0s - loss: 0.0923 - mean_absolute_error: 0.0923 - val_loss: 0.1105 - val_mean_absolute_error: 0.1105\n",
      "Epoch 140/150\n",
      "8/8 - 0s - loss: 0.0783 - mean_absolute_error: 0.0783 - val_loss: 0.1431 - val_mean_absolute_error: 0.1431\n",
      "Epoch 141/150\n",
      "8/8 - 0s - loss: 0.0860 - mean_absolute_error: 0.0860 - val_loss: 0.1187 - val_mean_absolute_error: 0.1187\n",
      "Epoch 142/150\n",
      "8/8 - 0s - loss: 0.0770 - mean_absolute_error: 0.0770 - val_loss: 0.1890 - val_mean_absolute_error: 0.1890\n",
      "Epoch 143/150\n",
      "8/8 - 0s - loss: 0.0808 - mean_absolute_error: 0.0808 - val_loss: 0.1132 - val_mean_absolute_error: 0.1132\n",
      "Epoch 144/150\n",
      "8/8 - 0s - loss: 0.0776 - mean_absolute_error: 0.0776 - val_loss: 0.1424 - val_mean_absolute_error: 0.1424\n",
      "Epoch 145/150\n",
      "8/8 - 0s - loss: 0.0656 - mean_absolute_error: 0.0656 - val_loss: 0.0885 - val_mean_absolute_error: 0.0885\n",
      "Epoch 146/150\n",
      "8/8 - 0s - loss: 0.0860 - mean_absolute_error: 0.0860 - val_loss: 0.1333 - val_mean_absolute_error: 0.1333\n",
      "Epoch 147/150\n",
      "8/8 - 0s - loss: 0.0979 - mean_absolute_error: 0.0979 - val_loss: 0.1145 - val_mean_absolute_error: 0.1145\n",
      "Epoch 148/150\n",
      "8/8 - 0s - loss: 0.0871 - mean_absolute_error: 0.0871 - val_loss: 0.1141 - val_mean_absolute_error: 0.1141\n",
      "Epoch 149/150\n",
      "8/8 - 0s - loss: 0.0872 - mean_absolute_error: 0.0872 - val_loss: 0.1379 - val_mean_absolute_error: 0.1379\n",
      "Epoch 150/150\n",
      "8/8 - 0s - loss: 0.0835 - mean_absolute_error: 0.0835 - val_loss: 0.1024 - val_mean_absolute_error: 0.1024\n"
     ]
    },
    {
     "data": {
      "text/plain": [
       "<tensorflow.python.keras.callbacks.History at 0x1ba77f0c070>"
      ]
     },
     "execution_count": 26,
     "metadata": {},
     "output_type": "execute_result"
    }
   ],
   "source": [
    "model = tuner.hypermodel.build(best_hps)\n",
    "model.fit(X_train, y_train, validation_split = 0.1 ,epochs=150, verbose=2)"
   ]
  },
  {
   "cell_type": "code",
   "execution_count": 28,
   "metadata": {},
   "outputs": [
    {
     "name": "stdout",
     "output_type": "stream",
     "text": [
      "1/1 - 0s - loss: 0.0946 - mean_absolute_error: 0.0946\n",
      "Test mae: 0.09\n",
      "Test Loss: 0.09\n"
     ]
    }
   ],
   "source": [
    "loss, mae = model.evaluate(X_test, y_test, verbose=2)\n",
    "print('Test mae: %.2f' % (mae))\n",
    "print('Test Loss: %.2f' % (loss))\n"
   ]
  },
  {
   "cell_type": "code",
   "execution_count": null,
   "metadata": {},
   "outputs": [],
   "source": []
  }
 ],
 "metadata": {
  "kernelspec": {
   "display_name": "Python 3",
   "language": "python",
   "name": "python3"
  },
  "language_info": {
   "codemirror_mode": {
    "name": "ipython",
    "version": 3
   },
   "file_extension": ".py",
   "mimetype": "text/x-python",
   "name": "python",
   "nbconvert_exporter": "python",
   "pygments_lexer": "ipython3",
   "version": "3.8.5"
  }
 },
 "nbformat": 4,
 "nbformat_minor": 4
}
