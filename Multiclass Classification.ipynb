{
 "cells": [
  {
   "cell_type": "code",
   "execution_count": 5,
   "metadata": {},
   "outputs": [],
   "source": [
    "import tensorflow as tf\n",
    "import numpy as np\n",
    "import pandas as pd\n",
    "import sklearn\n",
    "from sklearn import datasets\n",
    "import seaborn as sns"
   ]
  },
  {
   "cell_type": "code",
   "execution_count": 7,
   "metadata": {},
   "outputs": [
    {
     "data": {
      "text/plain": [
       "{'data': array([[5.1, 3.5, 1.4, 0.2],\n",
       "        [4.9, 3. , 1.4, 0.2],\n",
       "        [4.7, 3.2, 1.3, 0.2],\n",
       "        [4.6, 3.1, 1.5, 0.2],\n",
       "        [5. , 3.6, 1.4, 0.2],\n",
       "        [5.4, 3.9, 1.7, 0.4],\n",
       "        [4.6, 3.4, 1.4, 0.3],\n",
       "        [5. , 3.4, 1.5, 0.2],\n",
       "        [4.4, 2.9, 1.4, 0.2],\n",
       "        [4.9, 3.1, 1.5, 0.1],\n",
       "        [5.4, 3.7, 1.5, 0.2],\n",
       "        [4.8, 3.4, 1.6, 0.2],\n",
       "        [4.8, 3. , 1.4, 0.1],\n",
       "        [4.3, 3. , 1.1, 0.1],\n",
       "        [5.8, 4. , 1.2, 0.2],\n",
       "        [5.7, 4.4, 1.5, 0.4],\n",
       "        [5.4, 3.9, 1.3, 0.4],\n",
       "        [5.1, 3.5, 1.4, 0.3],\n",
       "        [5.7, 3.8, 1.7, 0.3],\n",
       "        [5.1, 3.8, 1.5, 0.3],\n",
       "        [5.4, 3.4, 1.7, 0.2],\n",
       "        [5.1, 3.7, 1.5, 0.4],\n",
       "        [4.6, 3.6, 1. , 0.2],\n",
       "        [5.1, 3.3, 1.7, 0.5],\n",
       "        [4.8, 3.4, 1.9, 0.2],\n",
       "        [5. , 3. , 1.6, 0.2],\n",
       "        [5. , 3.4, 1.6, 0.4],\n",
       "        [5.2, 3.5, 1.5, 0.2],\n",
       "        [5.2, 3.4, 1.4, 0.2],\n",
       "        [4.7, 3.2, 1.6, 0.2],\n",
       "        [4.8, 3.1, 1.6, 0.2],\n",
       "        [5.4, 3.4, 1.5, 0.4],\n",
       "        [5.2, 4.1, 1.5, 0.1],\n",
       "        [5.5, 4.2, 1.4, 0.2],\n",
       "        [4.9, 3.1, 1.5, 0.2],\n",
       "        [5. , 3.2, 1.2, 0.2],\n",
       "        [5.5, 3.5, 1.3, 0.2],\n",
       "        [4.9, 3.6, 1.4, 0.1],\n",
       "        [4.4, 3. , 1.3, 0.2],\n",
       "        [5.1, 3.4, 1.5, 0.2],\n",
       "        [5. , 3.5, 1.3, 0.3],\n",
       "        [4.5, 2.3, 1.3, 0.3],\n",
       "        [4.4, 3.2, 1.3, 0.2],\n",
       "        [5. , 3.5, 1.6, 0.6],\n",
       "        [5.1, 3.8, 1.9, 0.4],\n",
       "        [4.8, 3. , 1.4, 0.3],\n",
       "        [5.1, 3.8, 1.6, 0.2],\n",
       "        [4.6, 3.2, 1.4, 0.2],\n",
       "        [5.3, 3.7, 1.5, 0.2],\n",
       "        [5. , 3.3, 1.4, 0.2],\n",
       "        [7. , 3.2, 4.7, 1.4],\n",
       "        [6.4, 3.2, 4.5, 1.5],\n",
       "        [6.9, 3.1, 4.9, 1.5],\n",
       "        [5.5, 2.3, 4. , 1.3],\n",
       "        [6.5, 2.8, 4.6, 1.5],\n",
       "        [5.7, 2.8, 4.5, 1.3],\n",
       "        [6.3, 3.3, 4.7, 1.6],\n",
       "        [4.9, 2.4, 3.3, 1. ],\n",
       "        [6.6, 2.9, 4.6, 1.3],\n",
       "        [5.2, 2.7, 3.9, 1.4],\n",
       "        [5. , 2. , 3.5, 1. ],\n",
       "        [5.9, 3. , 4.2, 1.5],\n",
       "        [6. , 2.2, 4. , 1. ],\n",
       "        [6.1, 2.9, 4.7, 1.4],\n",
       "        [5.6, 2.9, 3.6, 1.3],\n",
       "        [6.7, 3.1, 4.4, 1.4],\n",
       "        [5.6, 3. , 4.5, 1.5],\n",
       "        [5.8, 2.7, 4.1, 1. ],\n",
       "        [6.2, 2.2, 4.5, 1.5],\n",
       "        [5.6, 2.5, 3.9, 1.1],\n",
       "        [5.9, 3.2, 4.8, 1.8],\n",
       "        [6.1, 2.8, 4. , 1.3],\n",
       "        [6.3, 2.5, 4.9, 1.5],\n",
       "        [6.1, 2.8, 4.7, 1.2],\n",
       "        [6.4, 2.9, 4.3, 1.3],\n",
       "        [6.6, 3. , 4.4, 1.4],\n",
       "        [6.8, 2.8, 4.8, 1.4],\n",
       "        [6.7, 3. , 5. , 1.7],\n",
       "        [6. , 2.9, 4.5, 1.5],\n",
       "        [5.7, 2.6, 3.5, 1. ],\n",
       "        [5.5, 2.4, 3.8, 1.1],\n",
       "        [5.5, 2.4, 3.7, 1. ],\n",
       "        [5.8, 2.7, 3.9, 1.2],\n",
       "        [6. , 2.7, 5.1, 1.6],\n",
       "        [5.4, 3. , 4.5, 1.5],\n",
       "        [6. , 3.4, 4.5, 1.6],\n",
       "        [6.7, 3.1, 4.7, 1.5],\n",
       "        [6.3, 2.3, 4.4, 1.3],\n",
       "        [5.6, 3. , 4.1, 1.3],\n",
       "        [5.5, 2.5, 4. , 1.3],\n",
       "        [5.5, 2.6, 4.4, 1.2],\n",
       "        [6.1, 3. , 4.6, 1.4],\n",
       "        [5.8, 2.6, 4. , 1.2],\n",
       "        [5. , 2.3, 3.3, 1. ],\n",
       "        [5.6, 2.7, 4.2, 1.3],\n",
       "        [5.7, 3. , 4.2, 1.2],\n",
       "        [5.7, 2.9, 4.2, 1.3],\n",
       "        [6.2, 2.9, 4.3, 1.3],\n",
       "        [5.1, 2.5, 3. , 1.1],\n",
       "        [5.7, 2.8, 4.1, 1.3],\n",
       "        [6.3, 3.3, 6. , 2.5],\n",
       "        [5.8, 2.7, 5.1, 1.9],\n",
       "        [7.1, 3. , 5.9, 2.1],\n",
       "        [6.3, 2.9, 5.6, 1.8],\n",
       "        [6.5, 3. , 5.8, 2.2],\n",
       "        [7.6, 3. , 6.6, 2.1],\n",
       "        [4.9, 2.5, 4.5, 1.7],\n",
       "        [7.3, 2.9, 6.3, 1.8],\n",
       "        [6.7, 2.5, 5.8, 1.8],\n",
       "        [7.2, 3.6, 6.1, 2.5],\n",
       "        [6.5, 3.2, 5.1, 2. ],\n",
       "        [6.4, 2.7, 5.3, 1.9],\n",
       "        [6.8, 3. , 5.5, 2.1],\n",
       "        [5.7, 2.5, 5. , 2. ],\n",
       "        [5.8, 2.8, 5.1, 2.4],\n",
       "        [6.4, 3.2, 5.3, 2.3],\n",
       "        [6.5, 3. , 5.5, 1.8],\n",
       "        [7.7, 3.8, 6.7, 2.2],\n",
       "        [7.7, 2.6, 6.9, 2.3],\n",
       "        [6. , 2.2, 5. , 1.5],\n",
       "        [6.9, 3.2, 5.7, 2.3],\n",
       "        [5.6, 2.8, 4.9, 2. ],\n",
       "        [7.7, 2.8, 6.7, 2. ],\n",
       "        [6.3, 2.7, 4.9, 1.8],\n",
       "        [6.7, 3.3, 5.7, 2.1],\n",
       "        [7.2, 3.2, 6. , 1.8],\n",
       "        [6.2, 2.8, 4.8, 1.8],\n",
       "        [6.1, 3. , 4.9, 1.8],\n",
       "        [6.4, 2.8, 5.6, 2.1],\n",
       "        [7.2, 3. , 5.8, 1.6],\n",
       "        [7.4, 2.8, 6.1, 1.9],\n",
       "        [7.9, 3.8, 6.4, 2. ],\n",
       "        [6.4, 2.8, 5.6, 2.2],\n",
       "        [6.3, 2.8, 5.1, 1.5],\n",
       "        [6.1, 2.6, 5.6, 1.4],\n",
       "        [7.7, 3. , 6.1, 2.3],\n",
       "        [6.3, 3.4, 5.6, 2.4],\n",
       "        [6.4, 3.1, 5.5, 1.8],\n",
       "        [6. , 3. , 4.8, 1.8],\n",
       "        [6.9, 3.1, 5.4, 2.1],\n",
       "        [6.7, 3.1, 5.6, 2.4],\n",
       "        [6.9, 3.1, 5.1, 2.3],\n",
       "        [5.8, 2.7, 5.1, 1.9],\n",
       "        [6.8, 3.2, 5.9, 2.3],\n",
       "        [6.7, 3.3, 5.7, 2.5],\n",
       "        [6.7, 3. , 5.2, 2.3],\n",
       "        [6.3, 2.5, 5. , 1.9],\n",
       "        [6.5, 3. , 5.2, 2. ],\n",
       "        [6.2, 3.4, 5.4, 2.3],\n",
       "        [5.9, 3. , 5.1, 1.8]]),\n",
       " 'target': array([0, 0, 0, 0, 0, 0, 0, 0, 0, 0, 0, 0, 0, 0, 0, 0, 0, 0, 0, 0, 0, 0,\n",
       "        0, 0, 0, 0, 0, 0, 0, 0, 0, 0, 0, 0, 0, 0, 0, 0, 0, 0, 0, 0, 0, 0,\n",
       "        0, 0, 0, 0, 0, 0, 1, 1, 1, 1, 1, 1, 1, 1, 1, 1, 1, 1, 1, 1, 1, 1,\n",
       "        1, 1, 1, 1, 1, 1, 1, 1, 1, 1, 1, 1, 1, 1, 1, 1, 1, 1, 1, 1, 1, 1,\n",
       "        1, 1, 1, 1, 1, 1, 1, 1, 1, 1, 1, 1, 2, 2, 2, 2, 2, 2, 2, 2, 2, 2,\n",
       "        2, 2, 2, 2, 2, 2, 2, 2, 2, 2, 2, 2, 2, 2, 2, 2, 2, 2, 2, 2, 2, 2,\n",
       "        2, 2, 2, 2, 2, 2, 2, 2, 2, 2, 2, 2, 2, 2, 2, 2, 2, 2]),\n",
       " 'frame': None,\n",
       " 'target_names': array(['setosa', 'versicolor', 'virginica'], dtype='<U10'),\n",
       " 'DESCR': '.. _iris_dataset:\\n\\nIris plants dataset\\n--------------------\\n\\n**Data Set Characteristics:**\\n\\n    :Number of Instances: 150 (50 in each of three classes)\\n    :Number of Attributes: 4 numeric, predictive attributes and the class\\n    :Attribute Information:\\n        - sepal length in cm\\n        - sepal width in cm\\n        - petal length in cm\\n        - petal width in cm\\n        - class:\\n                - Iris-Setosa\\n                - Iris-Versicolour\\n                - Iris-Virginica\\n                \\n    :Summary Statistics:\\n\\n    ============== ==== ==== ======= ===== ====================\\n                    Min  Max   Mean    SD   Class Correlation\\n    ============== ==== ==== ======= ===== ====================\\n    sepal length:   4.3  7.9   5.84   0.83    0.7826\\n    sepal width:    2.0  4.4   3.05   0.43   -0.4194\\n    petal length:   1.0  6.9   3.76   1.76    0.9490  (high!)\\n    petal width:    0.1  2.5   1.20   0.76    0.9565  (high!)\\n    ============== ==== ==== ======= ===== ====================\\n\\n    :Missing Attribute Values: None\\n    :Class Distribution: 33.3% for each of 3 classes.\\n    :Creator: R.A. Fisher\\n    :Donor: Michael Marshall (MARSHALL%PLU@io.arc.nasa.gov)\\n    :Date: July, 1988\\n\\nThe famous Iris database, first used by Sir R.A. Fisher. The dataset is taken\\nfrom Fisher\\'s paper. Note that it\\'s the same as in R, but not as in the UCI\\nMachine Learning Repository, which has two wrong data points.\\n\\nThis is perhaps the best known database to be found in the\\npattern recognition literature.  Fisher\\'s paper is a classic in the field and\\nis referenced frequently to this day.  (See Duda & Hart, for example.)  The\\ndata set contains 3 classes of 50 instances each, where each class refers to a\\ntype of iris plant.  One class is linearly separable from the other 2; the\\nlatter are NOT linearly separable from each other.\\n\\n.. topic:: References\\n\\n   - Fisher, R.A. \"The use of multiple measurements in taxonomic problems\"\\n     Annual Eugenics, 7, Part II, 179-188 (1936); also in \"Contributions to\\n     Mathematical Statistics\" (John Wiley, NY, 1950).\\n   - Duda, R.O., & Hart, P.E. (1973) Pattern Classification and Scene Analysis.\\n     (Q327.D83) John Wiley & Sons.  ISBN 0-471-22361-1.  See page 218.\\n   - Dasarathy, B.V. (1980) \"Nosing Around the Neighborhood: A New System\\n     Structure and Classification Rule for Recognition in Partially Exposed\\n     Environments\".  IEEE Transactions on Pattern Analysis and Machine\\n     Intelligence, Vol. PAMI-2, No. 1, 67-71.\\n   - Gates, G.W. (1972) \"The Reduced Nearest Neighbor Rule\".  IEEE Transactions\\n     on Information Theory, May 1972, 431-433.\\n   - See also: 1988 MLC Proceedings, 54-64.  Cheeseman et al\"s AUTOCLASS II\\n     conceptual clustering system finds 3 classes in the data.\\n   - Many, many more ...',\n",
       " 'feature_names': ['sepal length (cm)',\n",
       "  'sepal width (cm)',\n",
       "  'petal length (cm)',\n",
       "  'petal width (cm)'],\n",
       " 'filename': 'C:\\\\Users\\\\Ali\\\\.conda\\\\envs\\\\tensor_ali\\\\lib\\\\site-packages\\\\sklearn\\\\datasets\\\\data\\\\iris.csv'}"
      ]
     },
     "execution_count": 7,
     "metadata": {},
     "output_type": "execute_result"
    }
   ],
   "source": [
    "iris = datasets.load_iris()\n",
    "iris"
   ]
  },
  {
   "cell_type": "code",
   "execution_count": 8,
   "metadata": {},
   "outputs": [
    {
     "name": "stdout",
     "output_type": "stream",
     "text": [
      "(150, 4) (150,) ['setosa' 'versicolor' 'virginica']\n"
     ]
    }
   ],
   "source": [
    "X = iris.data\n",
    "y = iris.target\n",
    "target_names = iris.target_names\n",
    "print(X.shape , y.shape , target_names)"
   ]
  },
  {
   "cell_type": "code",
   "execution_count": 9,
   "metadata": {},
   "outputs": [],
   "source": [
    "X = X.astype('float32')"
   ]
  },
  {
   "cell_type": "code",
   "execution_count": 44,
   "metadata": {},
   "outputs": [
    {
     "name": "stdout",
     "output_type": "stream",
     "text": [
      "(120, 4) (30, 4)\n",
      "(120,) (30,)\n"
     ]
    }
   ],
   "source": [
    "from sklearn.model_selection import train_test_split\n",
    "X_train , X_test , y_train , y_test = train_test_split(X,y , test_size = 0.2 , random_state = 42)\n",
    "print(X_train.shape , X_test.shape)\n",
    "print(y_train.shape , y_test.shape)"
   ]
  },
  {
   "cell_type": "code",
   "execution_count": 11,
   "metadata": {},
   "outputs": [],
   "source": [
    "from tensorflow.keras import Sequential\n",
    "from tensorflow.keras.layers import Dense"
   ]
  },
  {
   "cell_type": "code",
   "execution_count": 12,
   "metadata": {},
   "outputs": [
    {
     "data": {
      "text/plain": [
       "4"
      ]
     },
     "execution_count": 12,
     "metadata": {},
     "output_type": "execute_result"
    }
   ],
   "source": [
    "n_features  = X.shape[1]\n",
    "n_features"
   ]
  },
  {
   "cell_type": "code",
   "execution_count": 45,
   "metadata": {},
   "outputs": [
    {
     "data": {
      "text/plain": [
       "array([0, 0, 1, 0, 0, 2, 1, 0, 0, 0, 2, 1, 1, 0, 0, 1, 2, 2, 1, 2, 1, 2,\n",
       "       1, 0, 2, 1, 0, 0, 0, 1, 2, 0, 0, 0, 1, 0, 1, 2, 0, 1, 2, 0, 2, 2,\n",
       "       1, 1, 2, 1, 0, 1, 2, 0, 0, 1, 1, 0, 2, 0, 0, 1, 1, 2, 1, 2, 2, 1,\n",
       "       0, 0, 2, 2, 0, 0, 0, 1, 2, 0, 2, 2, 0, 1, 1, 2, 1, 2, 0, 2, 1, 2,\n",
       "       1, 1, 1, 0, 1, 1, 0, 1, 2, 2, 0, 1, 2, 2, 0, 2, 0, 1, 2, 2, 1, 2,\n",
       "       1, 1, 2, 2, 0, 1, 2, 0, 1, 2])"
      ]
     },
     "execution_count": 45,
     "metadata": {},
     "output_type": "execute_result"
    }
   ],
   "source": [
    "#pd.get_dummies(y_train)\n",
    "y_train"
   ]
  },
  {
   "cell_type": "code",
   "execution_count": 43,
   "metadata": {},
   "outputs": [],
   "source": [
    "y_train #= y_train.reshape((120,3))"
   ]
  },
  {
   "cell_type": "code",
   "execution_count": 46,
   "metadata": {},
   "outputs": [],
   "source": [
    "model = Sequential()\n",
    "model.add(Dense(10, activation='relu', kernel_initializer='he_normal', input_shape=(n_features,)))\n",
    "model.add(Dense(8, activation='relu', kernel_initializer='he_normal'))\n",
    "model.add(Dense(8, activation='relu', kernel_initializer='he_normal'))\n",
    "model.add(Dense(8, activation='relu', kernel_initializer='he_normal'))\n",
    "model.add(Dense(3, activation='softmax'))"
   ]
  },
  {
   "cell_type": "code",
   "execution_count": 47,
   "metadata": {},
   "outputs": [],
   "source": [
    "# compile the model\n",
    "model.compile(optimizer='adam', loss='sparse_categorical_crossentropy', metrics=['accuracy'])\n"
   ]
  },
  {
   "cell_type": "code",
   "execution_count": 48,
   "metadata": {
    "scrolled": true
   },
   "outputs": [
    {
     "name": "stdout",
     "output_type": "stream",
     "text": [
      "Epoch 1/150\n",
      "4/4 - 1s - loss: 3.7669 - accuracy: 0.3417\n",
      "Epoch 2/150\n",
      "4/4 - 0s - loss: 3.2550 - accuracy: 0.3417\n",
      "Epoch 3/150\n",
      "4/4 - 0s - loss: 2.7953 - accuracy: 0.3417\n",
      "Epoch 4/150\n",
      "4/4 - 0s - loss: 2.3279 - accuracy: 0.3500\n",
      "Epoch 5/150\n",
      "4/4 - 0s - loss: 1.9633 - accuracy: 0.6500\n",
      "Epoch 6/150\n",
      "4/4 - 0s - loss: 1.6793 - accuracy: 0.6667\n",
      "Epoch 7/150\n",
      "4/4 - 0s - loss: 1.5231 - accuracy: 0.6583\n",
      "Epoch 8/150\n",
      "4/4 - 0s - loss: 1.4703 - accuracy: 0.5917\n",
      "Epoch 9/150\n",
      "4/4 - 0s - loss: 1.4330 - accuracy: 0.5750\n",
      "Epoch 10/150\n",
      "4/4 - 0s - loss: 1.3537 - accuracy: 0.5833\n",
      "Epoch 11/150\n",
      "4/4 - 0s - loss: 1.2753 - accuracy: 0.6167\n",
      "Epoch 12/150\n",
      "4/4 - 0s - loss: 1.2161 - accuracy: 0.6500\n",
      "Epoch 13/150\n",
      "4/4 - 0s - loss: 1.1699 - accuracy: 0.6667\n",
      "Epoch 14/150\n",
      "4/4 - 0s - loss: 1.1322 - accuracy: 0.6667\n",
      "Epoch 15/150\n",
      "4/4 - 0s - loss: 1.0940 - accuracy: 0.6667\n",
      "Epoch 16/150\n",
      "4/4 - 0s - loss: 1.0600 - accuracy: 0.6583\n",
      "Epoch 17/150\n",
      "4/4 - 0s - loss: 1.0283 - accuracy: 0.6417\n",
      "Epoch 18/150\n",
      "4/4 - 0s - loss: 1.0017 - accuracy: 0.6333\n",
      "Epoch 19/150\n",
      "4/4 - 0s - loss: 0.9793 - accuracy: 0.6250\n",
      "Epoch 20/150\n",
      "4/4 - 0s - loss: 0.9565 - accuracy: 0.6250\n",
      "Epoch 21/150\n",
      "4/4 - 0s - loss: 0.9365 - accuracy: 0.6333\n",
      "Epoch 22/150\n",
      "4/4 - 0s - loss: 0.9186 - accuracy: 0.6417\n",
      "Epoch 23/150\n",
      "4/4 - 0s - loss: 0.9030 - accuracy: 0.6417\n",
      "Epoch 24/150\n",
      "4/4 - 0s - loss: 0.8888 - accuracy: 0.6500\n",
      "Epoch 25/150\n",
      "4/4 - 0s - loss: 0.8741 - accuracy: 0.6500\n",
      "Epoch 26/150\n",
      "4/4 - 0s - loss: 0.8612 - accuracy: 0.6500\n",
      "Epoch 27/150\n",
      "4/4 - 0s - loss: 0.8499 - accuracy: 0.6500\n",
      "Epoch 28/150\n",
      "4/4 - 0s - loss: 0.8396 - accuracy: 0.6500\n",
      "Epoch 29/150\n",
      "4/4 - 0s - loss: 0.8287 - accuracy: 0.6417\n",
      "Epoch 30/150\n",
      "4/4 - 0s - loss: 0.8208 - accuracy: 0.6417\n",
      "Epoch 31/150\n",
      "4/4 - 0s - loss: 0.8117 - accuracy: 0.6333\n",
      "Epoch 32/150\n",
      "4/4 - 0s - loss: 0.8034 - accuracy: 0.6417\n",
      "Epoch 33/150\n",
      "4/4 - 0s - loss: 0.7951 - accuracy: 0.6500\n",
      "Epoch 34/150\n",
      "4/4 - 0s - loss: 0.7881 - accuracy: 0.6583\n",
      "Epoch 35/150\n",
      "4/4 - 0s - loss: 0.7814 - accuracy: 0.6583\n",
      "Epoch 36/150\n",
      "4/4 - 0s - loss: 0.7748 - accuracy: 0.6583\n",
      "Epoch 37/150\n",
      "4/4 - 0s - loss: 0.7697 - accuracy: 0.6583\n",
      "Epoch 38/150\n",
      "4/4 - 0s - loss: 0.7623 - accuracy: 0.6500\n",
      "Epoch 39/150\n",
      "4/4 - 0s - loss: 0.7560 - accuracy: 0.6500\n",
      "Epoch 40/150\n",
      "4/4 - 0s - loss: 0.7498 - accuracy: 0.6583\n",
      "Epoch 41/150\n",
      "4/4 - 0s - loss: 0.7434 - accuracy: 0.6583\n",
      "Epoch 42/150\n",
      "4/4 - 0s - loss: 0.7371 - accuracy: 0.6667\n",
      "Epoch 43/150\n",
      "4/4 - 0s - loss: 0.7314 - accuracy: 0.6667\n",
      "Epoch 44/150\n",
      "4/4 - 0s - loss: 0.7255 - accuracy: 0.6667\n",
      "Epoch 45/150\n",
      "4/4 - 0s - loss: 0.7204 - accuracy: 0.6667\n",
      "Epoch 46/150\n",
      "4/4 - 0s - loss: 0.7146 - accuracy: 0.6667\n",
      "Epoch 47/150\n",
      "4/4 - 0s - loss: 0.7091 - accuracy: 0.6667\n",
      "Epoch 48/150\n",
      "4/4 - 0s - loss: 0.7032 - accuracy: 0.6667\n",
      "Epoch 49/150\n",
      "4/4 - 0s - loss: 0.6971 - accuracy: 0.6667\n",
      "Epoch 50/150\n",
      "4/4 - 0s - loss: 0.6910 - accuracy: 0.6667\n",
      "Epoch 51/150\n",
      "4/4 - 0s - loss: 0.6843 - accuracy: 0.6667\n",
      "Epoch 52/150\n",
      "4/4 - 0s - loss: 0.6777 - accuracy: 0.6667\n",
      "Epoch 53/150\n",
      "4/4 - 0s - loss: 0.6705 - accuracy: 0.6667\n",
      "Epoch 54/150\n",
      "4/4 - 0s - loss: 0.6640 - accuracy: 0.6667\n",
      "Epoch 55/150\n",
      "4/4 - 0s - loss: 0.6580 - accuracy: 0.6667\n",
      "Epoch 56/150\n",
      "4/4 - 0s - loss: 0.6525 - accuracy: 0.6667\n",
      "Epoch 57/150\n",
      "4/4 - 0s - loss: 0.6491 - accuracy: 0.6583\n",
      "Epoch 58/150\n",
      "4/4 - 0s - loss: 0.6439 - accuracy: 0.6583\n",
      "Epoch 59/150\n",
      "4/4 - 0s - loss: 0.6393 - accuracy: 0.6583\n",
      "Epoch 60/150\n",
      "4/4 - 0s - loss: 0.6354 - accuracy: 0.6500\n",
      "Epoch 61/150\n",
      "4/4 - 0s - loss: 0.6316 - accuracy: 0.6500\n",
      "Epoch 62/150\n",
      "4/4 - 0s - loss: 0.6274 - accuracy: 0.6500\n",
      "Epoch 63/150\n",
      "4/4 - 0s - loss: 0.6210 - accuracy: 0.6500\n",
      "Epoch 64/150\n",
      "4/4 - 0s - loss: 0.6118 - accuracy: 0.6500\n",
      "Epoch 65/150\n",
      "4/4 - 0s - loss: 0.5970 - accuracy: 0.6583\n",
      "Epoch 66/150\n",
      "4/4 - 0s - loss: 0.5849 - accuracy: 0.6583\n",
      "Epoch 67/150\n",
      "4/4 - 0s - loss: 0.5774 - accuracy: 0.6583\n",
      "Epoch 68/150\n",
      "4/4 - 0s - loss: 0.5691 - accuracy: 0.6583\n",
      "Epoch 69/150\n",
      "4/4 - 0s - loss: 0.5631 - accuracy: 0.6667\n",
      "Epoch 70/150\n",
      "4/4 - 0s - loss: 0.5549 - accuracy: 0.7000\n",
      "Epoch 71/150\n",
      "4/4 - 0s - loss: 0.5483 - accuracy: 0.7250\n",
      "Epoch 72/150\n",
      "4/4 - 0s - loss: 0.5422 - accuracy: 0.7583\n",
      "Epoch 73/150\n",
      "4/4 - 0s - loss: 0.5361 - accuracy: 0.7833\n",
      "Epoch 74/150\n",
      "4/4 - 0s - loss: 0.5304 - accuracy: 0.7917\n",
      "Epoch 75/150\n",
      "4/4 - 0s - loss: 0.5254 - accuracy: 0.8000\n",
      "Epoch 76/150\n",
      "4/4 - 0s - loss: 0.5211 - accuracy: 0.8000\n",
      "Epoch 77/150\n",
      "4/4 - 0s - loss: 0.5160 - accuracy: 0.8167\n",
      "Epoch 78/150\n",
      "4/4 - 0s - loss: 0.5118 - accuracy: 0.8083\n",
      "Epoch 79/150\n",
      "4/4 - 0s - loss: 0.5072 - accuracy: 0.8167\n",
      "Epoch 80/150\n",
      "4/4 - 0s - loss: 0.5032 - accuracy: 0.8417\n",
      "Epoch 81/150\n",
      "4/4 - 0s - loss: 0.4991 - accuracy: 0.8500\n",
      "Epoch 82/150\n",
      "4/4 - 0s - loss: 0.4955 - accuracy: 0.8500\n",
      "Epoch 83/150\n",
      "4/4 - 0s - loss: 0.4917 - accuracy: 0.8667\n",
      "Epoch 84/150\n",
      "4/4 - 0s - loss: 0.4878 - accuracy: 0.8667\n",
      "Epoch 85/150\n",
      "4/4 - 0s - loss: 0.4850 - accuracy: 0.8667\n",
      "Epoch 86/150\n",
      "4/4 - 0s - loss: 0.4815 - accuracy: 0.8667\n",
      "Epoch 87/150\n",
      "4/4 - 0s - loss: 0.4777 - accuracy: 0.8500\n",
      "Epoch 88/150\n",
      "4/4 - 0s - loss: 0.4750 - accuracy: 0.8833\n",
      "Epoch 89/150\n",
      "4/4 - 0s - loss: 0.4717 - accuracy: 0.8750\n",
      "Epoch 90/150\n",
      "4/4 - 0s - loss: 0.4677 - accuracy: 0.9000\n",
      "Epoch 91/150\n",
      "4/4 - 0s - loss: 0.4649 - accuracy: 0.8833\n",
      "Epoch 92/150\n",
      "4/4 - 0s - loss: 0.4610 - accuracy: 0.8833\n",
      "Epoch 93/150\n",
      "4/4 - 0s - loss: 0.4579 - accuracy: 0.8750\n",
      "Epoch 94/150\n",
      "4/4 - 0s - loss: 0.4559 - accuracy: 0.8833\n",
      "Epoch 95/150\n",
      "4/4 - 0s - loss: 0.4516 - accuracy: 0.8750\n",
      "Epoch 96/150\n",
      "4/4 - 0s - loss: 0.4477 - accuracy: 0.8833\n",
      "Epoch 97/150\n",
      "4/4 - 0s - loss: 0.4449 - accuracy: 0.8917\n",
      "Epoch 98/150\n",
      "4/4 - 0s - loss: 0.4419 - accuracy: 0.8750\n",
      "Epoch 99/150\n",
      "4/4 - 0s - loss: 0.4389 - accuracy: 0.8667\n",
      "Epoch 100/150\n",
      "4/4 - 0s - loss: 0.4352 - accuracy: 0.8667\n",
      "Epoch 101/150\n",
      "4/4 - 0s - loss: 0.4318 - accuracy: 0.8917\n",
      "Epoch 102/150\n",
      "4/4 - 0s - loss: 0.4286 - accuracy: 0.8917\n",
      "Epoch 103/150\n",
      "4/4 - 0s - loss: 0.4257 - accuracy: 0.8917\n",
      "Epoch 104/150\n",
      "4/4 - 0s - loss: 0.4225 - accuracy: 0.8917\n",
      "Epoch 105/150\n",
      "4/4 - 0s - loss: 0.4196 - accuracy: 0.8833\n",
      "Epoch 106/150\n",
      "4/4 - 0s - loss: 0.4162 - accuracy: 0.8833\n",
      "Epoch 107/150\n",
      "4/4 - 0s - loss: 0.4165 - accuracy: 0.8917\n",
      "Epoch 108/150\n",
      "4/4 - 0s - loss: 0.4107 - accuracy: 0.9000\n",
      "Epoch 109/150\n",
      "4/4 - 0s - loss: 0.4059 - accuracy: 0.8917\n",
      "Epoch 110/150\n",
      "4/4 - 0s - loss: 0.4032 - accuracy: 0.8750\n",
      "Epoch 111/150\n",
      "4/4 - 0s - loss: 0.4002 - accuracy: 0.8833\n",
      "Epoch 112/150\n",
      "4/4 - 0s - loss: 0.3962 - accuracy: 0.8917\n",
      "Epoch 113/150\n",
      "4/4 - 0s - loss: 0.3932 - accuracy: 0.8917\n",
      "Epoch 114/150\n",
      "4/4 - 0s - loss: 0.3913 - accuracy: 0.9083\n",
      "Epoch 115/150\n",
      "4/4 - 0s - loss: 0.3869 - accuracy: 0.9083\n",
      "Epoch 116/150\n",
      "4/4 - 0s - loss: 0.3831 - accuracy: 0.9000\n",
      "Epoch 117/150\n",
      "4/4 - 0s - loss: 0.3800 - accuracy: 0.8917\n",
      "Epoch 118/150\n",
      "4/4 - 0s - loss: 0.3771 - accuracy: 0.8917\n",
      "Epoch 119/150\n",
      "4/4 - 0s - loss: 0.3742 - accuracy: 0.8917\n",
      "Epoch 120/150\n",
      "4/4 - 0s - loss: 0.3707 - accuracy: 0.8917\n",
      "Epoch 121/150\n",
      "4/4 - 0s - loss: 0.3665 - accuracy: 0.8917\n",
      "Epoch 122/150\n",
      "4/4 - 0s - loss: 0.3634 - accuracy: 0.9000\n",
      "Epoch 123/150\n",
      "4/4 - 0s - loss: 0.3604 - accuracy: 0.9000\n",
      "Epoch 124/150\n",
      "4/4 - 0s - loss: 0.3582 - accuracy: 0.9083\n",
      "Epoch 125/150\n",
      "4/4 - 0s - loss: 0.3537 - accuracy: 0.9083\n",
      "Epoch 126/150\n",
      "4/4 - 0s - loss: 0.3518 - accuracy: 0.8917\n",
      "Epoch 127/150\n",
      "4/4 - 0s - loss: 0.3470 - accuracy: 0.8917\n",
      "Epoch 128/150\n",
      "4/4 - 0s - loss: 0.3442 - accuracy: 0.9167\n",
      "Epoch 129/150\n",
      "4/4 - 0s - loss: 0.3412 - accuracy: 0.9167\n",
      "Epoch 130/150\n",
      "4/4 - 0s - loss: 0.3372 - accuracy: 0.9167\n",
      "Epoch 131/150\n",
      "4/4 - 0s - loss: 0.3341 - accuracy: 0.8917\n",
      "Epoch 132/150\n",
      "4/4 - 0s - loss: 0.3313 - accuracy: 0.8917\n",
      "Epoch 133/150\n",
      "4/4 - 0s - loss: 0.3279 - accuracy: 0.8917\n",
      "Epoch 134/150\n",
      "4/4 - 0s - loss: 0.3247 - accuracy: 0.8917\n",
      "Epoch 135/150\n",
      "4/4 - 0s - loss: 0.3232 - accuracy: 0.9083\n",
      "Epoch 136/150\n",
      "4/4 - 0s - loss: 0.3172 - accuracy: 0.9167\n",
      "Epoch 137/150\n",
      "4/4 - 0s - loss: 0.3152 - accuracy: 0.8917\n",
      "Epoch 138/150\n",
      "4/4 - 0s - loss: 0.3116 - accuracy: 0.8917\n",
      "Epoch 139/150\n",
      "4/4 - 0s - loss: 0.3081 - accuracy: 0.9000\n",
      "Epoch 140/150\n",
      "4/4 - 0s - loss: 0.3051 - accuracy: 0.9083\n",
      "Epoch 141/150\n",
      "4/4 - 0s - loss: 0.3010 - accuracy: 0.9167\n",
      "Epoch 142/150\n",
      "4/4 - 0s - loss: 0.2981 - accuracy: 0.9167\n",
      "Epoch 143/150\n",
      "4/4 - 0s - loss: 0.2955 - accuracy: 0.9167\n",
      "Epoch 144/150\n",
      "4/4 - 0s - loss: 0.2924 - accuracy: 0.9167\n",
      "Epoch 145/150\n",
      "4/4 - 0s - loss: 0.2882 - accuracy: 0.9167\n",
      "Epoch 146/150\n",
      "4/4 - 0s - loss: 0.2856 - accuracy: 0.9333\n"
     ]
    },
    {
     "name": "stdout",
     "output_type": "stream",
     "text": [
      "Epoch 147/150\n",
      "4/4 - 0s - loss: 0.2840 - accuracy: 0.9000\n",
      "Epoch 148/150\n",
      "4/4 - 0s - loss: 0.2789 - accuracy: 0.9250\n",
      "Epoch 149/150\n",
      "4/4 - 0s - loss: 0.2807 - accuracy: 0.9167\n",
      "Epoch 150/150\n",
      "4/4 - 0s - loss: 0.2748 - accuracy: 0.9250\n"
     ]
    },
    {
     "data": {
      "text/plain": [
       "<tensorflow.python.keras.callbacks.History at 0x22657714ca0>"
      ]
     },
     "execution_count": 48,
     "metadata": {},
     "output_type": "execute_result"
    }
   ],
   "source": [
    "# fit the model\n",
    "model.fit(X_train, y_train, epochs=150, batch_size=32, verbose=2)"
   ]
  },
  {
   "cell_type": "code",
   "execution_count": 19,
   "metadata": {},
   "outputs": [
    {
     "name": "stdout",
     "output_type": "stream",
     "text": [
      "1/1 - 0s - loss: 0.5073 - categorical_accuracy: 0.3333\n",
      "Test Accuracy: 33.33\n",
      "loss is : 0.51\n"
     ]
    }
   ],
   "source": [
    "# evaluate the model\n",
    "loss, acc = model.evaluate(X_test, y_test, verbose=2)\n",
    "print('Test Accuracy: %.2f' % (acc*100))\n",
    "print('loss is : %.2f'%loss)"
   ]
  },
  {
   "cell_type": "code",
   "execution_count": 37,
   "metadata": {},
   "outputs": [
    {
     "name": "stdout",
     "output_type": "stream",
     "text": [
      "int32 int32\n"
     ]
    },
    {
     "name": "stderr",
     "output_type": "stream",
     "text": [
      "C:\\Users\\Ali\\.conda\\envs\\tensor_ali\\lib\\site-packages\\tensorflow\\python\\keras\\engine\\sequential.py:450: UserWarning: `model.predict_classes()` is deprecated and will be removed after 2021-01-01. Please use instead:* `np.argmax(model.predict(x), axis=-1)`,   if your model does multi-class classification   (e.g. if it uses a `softmax` last-layer activation).* `(model.predict(x) > 0.5).astype(\"int32\")`,   if your model does binary classification   (e.g. if it uses a `sigmoid` last-layer activation).\n",
      "  warnings.warn('`model.predict_classes()` is deprecated and '\n"
     ]
    }
   ],
   "source": [
    "predictions = model.predict_classes(X_test)\n",
    "predictions = predictions.astype('int32')\n",
    "print(predictions.dtype , y_test.dtype)"
   ]
  },
  {
   "cell_type": "code",
   "execution_count": 38,
   "metadata": {},
   "outputs": [
    {
     "data": {
      "text/plain": [
       "0.9333333333333333"
      ]
     },
     "execution_count": 38,
     "metadata": {},
     "output_type": "execute_result"
    }
   ],
   "source": [
    "from sklearn.metrics import accuracy_score\n",
    "acc = accuracy_score(predictions , y_test)\n",
    "acc"
   ]
  },
  {
   "cell_type": "markdown",
   "metadata": {},
   "source": [
    "# part - 2"
   ]
  },
  {
   "cell_type": "code",
   "execution_count": 4,
   "metadata": {},
   "outputs": [
    {
     "ename": "ImportError",
     "evalue": "cannot import name 'np_utils' from 'tensorflow.keras.utils' (C:\\Users\\Ali\\.conda\\envs\\tensor_ali\\lib\\site-packages\\tensorflow\\keras\\utils\\__init__.py)",
     "output_type": "error",
     "traceback": [
      "\u001b[1;31m---------------------------------------------------------------------------\u001b[0m",
      "\u001b[1;31mImportError\u001b[0m                               Traceback (most recent call last)",
      "\u001b[1;32m<ipython-input-4-f073cfb04beb>\u001b[0m in \u001b[0;36m<module>\u001b[1;34m\u001b[0m\n\u001b[0;32m      5\u001b[0m \u001b[1;32mfrom\u001b[0m \u001b[0mtensorflow\u001b[0m\u001b[1;33m.\u001b[0m\u001b[0mkeras\u001b[0m\u001b[1;33m.\u001b[0m\u001b[0mlayers\u001b[0m \u001b[1;32mimport\u001b[0m \u001b[0mDense\u001b[0m\u001b[1;33m\u001b[0m\u001b[1;33m\u001b[0m\u001b[0m\n\u001b[0;32m      6\u001b[0m \u001b[1;32mfrom\u001b[0m \u001b[0mtensorflow\u001b[0m\u001b[1;33m.\u001b[0m\u001b[0mkeras\u001b[0m\u001b[1;33m.\u001b[0m\u001b[0mwrappers\u001b[0m\u001b[1;33m.\u001b[0m\u001b[0mscikit_learn\u001b[0m \u001b[1;32mimport\u001b[0m \u001b[0mKerasClassifier\u001b[0m\u001b[1;33m\u001b[0m\u001b[1;33m\u001b[0m\u001b[0m\n\u001b[1;32m----> 7\u001b[1;33m \u001b[1;32mfrom\u001b[0m \u001b[0mtensorflow\u001b[0m\u001b[1;33m.\u001b[0m\u001b[0mkeras\u001b[0m\u001b[1;33m.\u001b[0m\u001b[0mutils\u001b[0m \u001b[1;32mimport\u001b[0m \u001b[0mnp_utils\u001b[0m\u001b[1;33m\u001b[0m\u001b[1;33m\u001b[0m\u001b[0m\n\u001b[0m\u001b[0;32m      8\u001b[0m \u001b[1;32mfrom\u001b[0m \u001b[0msklearn\u001b[0m\u001b[1;33m.\u001b[0m\u001b[0mmodel_selection\u001b[0m \u001b[1;32mimport\u001b[0m \u001b[0mcross_val_score\u001b[0m\u001b[1;33m\u001b[0m\u001b[1;33m\u001b[0m\u001b[0m\n\u001b[0;32m      9\u001b[0m \u001b[1;32mfrom\u001b[0m \u001b[0msklearn\u001b[0m\u001b[1;33m.\u001b[0m\u001b[0mmodel_selection\u001b[0m \u001b[1;32mimport\u001b[0m \u001b[0mKFold\u001b[0m\u001b[1;33m\u001b[0m\u001b[1;33m\u001b[0m\u001b[0m\n",
      "\u001b[1;31mImportError\u001b[0m: cannot import name 'np_utils' from 'tensorflow.keras.utils' (C:\\Users\\Ali\\.conda\\envs\\tensor_ali\\lib\\site-packages\\tensorflow\\keras\\utils\\__init__.py)"
     ]
    }
   ],
   "source": [
    "# multi-class classification with Keras\n",
    "import pandas\n",
    "import tensorflow as tf\n",
    "from tensorflow.keras.models import Sequential\n",
    "from tensorflow.keras.layers import Dense\n",
    "from tensorflow.keras.wrappers.scikit_learn import KerasClassifier\n",
    "from sklearn.model_selection import cross_val_score\n",
    "from sklearn.model_selection import KFold\n",
    "from sklearn.preprocessing import LabelEncoder\n",
    "from sklearn.pipeline import Pipeline\n",
    "# load dataset\n",
    "dataframe = pandas.read_csv(\"iris.data\", header=None)\n",
    "dataset = dataframe.values\n",
    "X = dataset[:,0:4].astype(float)\n",
    "Y = dataset[:,4]\n",
    "# encode class values as integers\n",
    "encoder = LabelEncoder()\n",
    "encoder.fit(Y)\n",
    "encoded_Y = encoder.transform(Y)\n",
    "# convert integers to dummy variables (i.e. one hot encoded)\n",
    "dummy_y = np_utils.to_categorical(encoded_Y)\n",
    "\n",
    "# define baseline model\n",
    "def baseline_model():\n",
    "    # create model\n",
    "    model = Sequential()\n",
    "    model.add(Dense(8, input_dim=4, activation='relu'))\n",
    "    model.add(Dense(3, activation='softmax'))\n",
    "    # Compile model\n",
    "    model.compile(loss='categorical_crossentropy', optimizer='adam', metrics=['accuracy'])\n",
    "    return model\n",
    "\n"
   ]
  },
  {
   "cell_type": "code",
   "execution_count": null,
   "metadata": {},
   "outputs": [],
   "source": [
    "estimator = KerasClassifier(build_fn=baseline_model, epochs=200, batch_size=5, verbose=0)\n",
    "kfold = KFold(n_splits=10, shuffle=True)\n",
    "results = cross_val_score(estimator, X, dummy_y, cv=kfold)\n",
    "print(\"Baseline: %.2f%% (%.2f%%)\" % (results.mean()*100, results.std()*100))"
   ]
  }
 ],
 "metadata": {
  "kernelspec": {
   "display_name": "Python 3",
   "language": "python",
   "name": "python3"
  },
  "language_info": {
   "codemirror_mode": {
    "name": "ipython",
    "version": 3
   },
   "file_extension": ".py",
   "mimetype": "text/x-python",
   "name": "python",
   "nbconvert_exporter": "python",
   "pygments_lexer": "ipython3",
   "version": "3.8.5"
  }
 },
 "nbformat": 4,
 "nbformat_minor": 4
}
